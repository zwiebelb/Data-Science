{
  "cells": [
    {
      "cell_type": "markdown",
      "id": "5ab26926-ad66-43d4-a106-08949387aae5",
      "metadata": {
        "id": "5ab26926-ad66-43d4-a106-08949387aae5"
      },
      "source": [
        "# Lab 8  356\n",
        "\n",
        "## Agglomerative clustering in Python\n",
        "\n",
        "```linkage()``` performs agglomerative clustering. The most important parameters are ```method``` and ```metric```. The method parameter specifies the measure of similarity, such as single, complete, and centroid. The metric parameter specifies the kind of distance between instances, such as Euclidean distance. The rest of the parameters and matching values can be found in scipy documentation for hierarchical clustering.\n",
        "\n",
        "The dendrogram function plots a dendrogram given a dataframe. The scipy documentation for dendrograms lists the parameters and corresponding values. https://docs.scipy.org/doc/scipy/reference/generated/scipy.cluster.hierarchy.dendrogram.html\n",
        "\n",
        "Sometimes, a more convenient way of structuring the data for clustering is by using a distance matrix. The agglomerative clustering model can take in a distance matrix as input by using the squareform function from the spatial.distance package.\n",
        "\n",
        "Researchers studying chemical properties of wines collected data on a sample of white wines in Northern Portugal. A research goal was to cluster wines based on similar chemical properties.\n",
        "\n",
        "Cluster wines with single linkage.\n",
        "The code provided creates a dataframe with two features (residual_sugar and fixed_acidity), normalizes the dataframe, creates a distance matrix, and displays the cluster membership of each data point."
      ]
    },
    {
      "cell_type": "code",
      "execution_count": 1,
      "id": "82e8a9a0-dd5e-48f9-93ad-48ca22f28202",
      "metadata": {
        "id": "82e8a9a0-dd5e-48f9-93ad-48ca22f28202"
      },
      "outputs": [],
      "source": [
        "import pandas as pd\n",
        "\n",
        "from scipy.cluster.hierarchy import dendrogram, linkage\n",
        "from scipy.spatial.distance import pdist\n",
        "import matplotlib.pyplot as plt\n",
        "from sklearn.preprocessing import StandardScaler"
      ]
    },
    {
      "cell_type": "code",
      "source": [
        "from google.colab import drive #mount drive\n",
        "drive.mount('/content/drive')"
      ],
      "metadata": {
        "colab": {
          "base_uri": "https://localhost:8080/"
        },
        "id": "wZbXdj1FYLqV",
        "outputId": "9bf01b8e-762d-42d0-84d4-09b3793632a0"
      },
      "id": "wZbXdj1FYLqV",
      "execution_count": 2,
      "outputs": [
        {
          "output_type": "stream",
          "name": "stdout",
          "text": [
            "Drive already mounted at /content/drive; to attempt to forcibly remount, call drive.mount(\"/content/drive\", force_remount=True).\n"
          ]
        }
      ]
    },
    {
      "cell_type": "code",
      "execution_count": 3,
      "id": "a5dbdd5c-b078-4db4-9d32-d5055dea3a14",
      "metadata": {
        "colab": {
          "base_uri": "https://localhost:8080/",
          "height": 206
        },
        "id": "a5dbdd5c-b078-4db4-9d32-d5055dea3a14",
        "outputId": "182fd919-2783-4a60-fabc-1e2dc34974f6"
      },
      "outputs": [
        {
          "output_type": "execute_result",
          "data": {
            "text/plain": [
              "   residual_sugar  fixed_acidity  chlorides  density  free_sulfur_dioxide\n",
              "0           12.20            7.4      0.050  0.99730                 57.0\n",
              "1           13.90            7.7      0.050  0.99855                 44.0\n",
              "2            1.60            6.4      0.092  0.99280                 40.0\n",
              "3            1.45            8.1      0.033  0.99080                 11.0\n",
              "4           16.20            8.5      0.074  0.99800                 41.0"
            ],
            "text/html": [
              "\n",
              "  <div id=\"df-efb71764-979a-4cf1-a475-4e1bf3b1440d\" class=\"colab-df-container\">\n",
              "    <div>\n",
              "<style scoped>\n",
              "    .dataframe tbody tr th:only-of-type {\n",
              "        vertical-align: middle;\n",
              "    }\n",
              "\n",
              "    .dataframe tbody tr th {\n",
              "        vertical-align: top;\n",
              "    }\n",
              "\n",
              "    .dataframe thead th {\n",
              "        text-align: right;\n",
              "    }\n",
              "</style>\n",
              "<table border=\"1\" class=\"dataframe\">\n",
              "  <thead>\n",
              "    <tr style=\"text-align: right;\">\n",
              "      <th></th>\n",
              "      <th>residual_sugar</th>\n",
              "      <th>fixed_acidity</th>\n",
              "      <th>chlorides</th>\n",
              "      <th>density</th>\n",
              "      <th>free_sulfur_dioxide</th>\n",
              "    </tr>\n",
              "  </thead>\n",
              "  <tbody>\n",
              "    <tr>\n",
              "      <th>0</th>\n",
              "      <td>12.20</td>\n",
              "      <td>7.4</td>\n",
              "      <td>0.050</td>\n",
              "      <td>0.99730</td>\n",
              "      <td>57.0</td>\n",
              "    </tr>\n",
              "    <tr>\n",
              "      <th>1</th>\n",
              "      <td>13.90</td>\n",
              "      <td>7.7</td>\n",
              "      <td>0.050</td>\n",
              "      <td>0.99855</td>\n",
              "      <td>44.0</td>\n",
              "    </tr>\n",
              "    <tr>\n",
              "      <th>2</th>\n",
              "      <td>1.60</td>\n",
              "      <td>6.4</td>\n",
              "      <td>0.092</td>\n",
              "      <td>0.99280</td>\n",
              "      <td>40.0</td>\n",
              "    </tr>\n",
              "    <tr>\n",
              "      <th>3</th>\n",
              "      <td>1.45</td>\n",
              "      <td>8.1</td>\n",
              "      <td>0.033</td>\n",
              "      <td>0.99080</td>\n",
              "      <td>11.0</td>\n",
              "    </tr>\n",
              "    <tr>\n",
              "      <th>4</th>\n",
              "      <td>16.20</td>\n",
              "      <td>8.5</td>\n",
              "      <td>0.074</td>\n",
              "      <td>0.99800</td>\n",
              "      <td>41.0</td>\n",
              "    </tr>\n",
              "  </tbody>\n",
              "</table>\n",
              "</div>\n",
              "    <div class=\"colab-df-buttons\">\n",
              "\n",
              "  <div class=\"colab-df-container\">\n",
              "    <button class=\"colab-df-convert\" onclick=\"convertToInteractive('df-efb71764-979a-4cf1-a475-4e1bf3b1440d')\"\n",
              "            title=\"Convert this dataframe to an interactive table.\"\n",
              "            style=\"display:none;\">\n",
              "\n",
              "  <svg xmlns=\"http://www.w3.org/2000/svg\" height=\"24px\" viewBox=\"0 -960 960 960\">\n",
              "    <path d=\"M120-120v-720h720v720H120Zm60-500h600v-160H180v160Zm220 220h160v-160H400v160Zm0 220h160v-160H400v160ZM180-400h160v-160H180v160Zm440 0h160v-160H620v160ZM180-180h160v-160H180v160Zm440 0h160v-160H620v160Z\"/>\n",
              "  </svg>\n",
              "    </button>\n",
              "\n",
              "  <style>\n",
              "    .colab-df-container {\n",
              "      display:flex;\n",
              "      gap: 12px;\n",
              "    }\n",
              "\n",
              "    .colab-df-convert {\n",
              "      background-color: #E8F0FE;\n",
              "      border: none;\n",
              "      border-radius: 50%;\n",
              "      cursor: pointer;\n",
              "      display: none;\n",
              "      fill: #1967D2;\n",
              "      height: 32px;\n",
              "      padding: 0 0 0 0;\n",
              "      width: 32px;\n",
              "    }\n",
              "\n",
              "    .colab-df-convert:hover {\n",
              "      background-color: #E2EBFA;\n",
              "      box-shadow: 0px 1px 2px rgba(60, 64, 67, 0.3), 0px 1px 3px 1px rgba(60, 64, 67, 0.15);\n",
              "      fill: #174EA6;\n",
              "    }\n",
              "\n",
              "    .colab-df-buttons div {\n",
              "      margin-bottom: 4px;\n",
              "    }\n",
              "\n",
              "    [theme=dark] .colab-df-convert {\n",
              "      background-color: #3B4455;\n",
              "      fill: #D2E3FC;\n",
              "    }\n",
              "\n",
              "    [theme=dark] .colab-df-convert:hover {\n",
              "      background-color: #434B5C;\n",
              "      box-shadow: 0px 1px 3px 1px rgba(0, 0, 0, 0.15);\n",
              "      filter: drop-shadow(0px 1px 2px rgba(0, 0, 0, 0.3));\n",
              "      fill: #FFFFFF;\n",
              "    }\n",
              "  </style>\n",
              "\n",
              "    <script>\n",
              "      const buttonEl =\n",
              "        document.querySelector('#df-efb71764-979a-4cf1-a475-4e1bf3b1440d button.colab-df-convert');\n",
              "      buttonEl.style.display =\n",
              "        google.colab.kernel.accessAllowed ? 'block' : 'none';\n",
              "\n",
              "      async function convertToInteractive(key) {\n",
              "        const element = document.querySelector('#df-efb71764-979a-4cf1-a475-4e1bf3b1440d');\n",
              "        const dataTable =\n",
              "          await google.colab.kernel.invokeFunction('convertToInteractive',\n",
              "                                                    [key], {});\n",
              "        if (!dataTable) return;\n",
              "\n",
              "        const docLinkHtml = 'Like what you see? Visit the ' +\n",
              "          '<a target=\"_blank\" href=https://colab.research.google.com/notebooks/data_table.ipynb>data table notebook</a>'\n",
              "          + ' to learn more about interactive tables.';\n",
              "        element.innerHTML = '';\n",
              "        dataTable['output_type'] = 'display_data';\n",
              "        await google.colab.output.renderOutput(dataTable, element);\n",
              "        const docLink = document.createElement('div');\n",
              "        docLink.innerHTML = docLinkHtml;\n",
              "        element.appendChild(docLink);\n",
              "      }\n",
              "    </script>\n",
              "  </div>\n",
              "\n",
              "\n",
              "<div id=\"df-90aa30ad-0ee2-4bba-a9cd-7adb48e4e8e2\">\n",
              "  <button class=\"colab-df-quickchart\" onclick=\"quickchart('df-90aa30ad-0ee2-4bba-a9cd-7adb48e4e8e2')\"\n",
              "            title=\"Suggest charts\"\n",
              "            style=\"display:none;\">\n",
              "\n",
              "<svg xmlns=\"http://www.w3.org/2000/svg\" height=\"24px\"viewBox=\"0 0 24 24\"\n",
              "     width=\"24px\">\n",
              "    <g>\n",
              "        <path d=\"M19 3H5c-1.1 0-2 .9-2 2v14c0 1.1.9 2 2 2h14c1.1 0 2-.9 2-2V5c0-1.1-.9-2-2-2zM9 17H7v-7h2v7zm4 0h-2V7h2v10zm4 0h-2v-4h2v4z\"/>\n",
              "    </g>\n",
              "</svg>\n",
              "  </button>\n",
              "\n",
              "<style>\n",
              "  .colab-df-quickchart {\n",
              "      --bg-color: #E8F0FE;\n",
              "      --fill-color: #1967D2;\n",
              "      --hover-bg-color: #E2EBFA;\n",
              "      --hover-fill-color: #174EA6;\n",
              "      --disabled-fill-color: #AAA;\n",
              "      --disabled-bg-color: #DDD;\n",
              "  }\n",
              "\n",
              "  [theme=dark] .colab-df-quickchart {\n",
              "      --bg-color: #3B4455;\n",
              "      --fill-color: #D2E3FC;\n",
              "      --hover-bg-color: #434B5C;\n",
              "      --hover-fill-color: #FFFFFF;\n",
              "      --disabled-bg-color: #3B4455;\n",
              "      --disabled-fill-color: #666;\n",
              "  }\n",
              "\n",
              "  .colab-df-quickchart {\n",
              "    background-color: var(--bg-color);\n",
              "    border: none;\n",
              "    border-radius: 50%;\n",
              "    cursor: pointer;\n",
              "    display: none;\n",
              "    fill: var(--fill-color);\n",
              "    height: 32px;\n",
              "    padding: 0;\n",
              "    width: 32px;\n",
              "  }\n",
              "\n",
              "  .colab-df-quickchart:hover {\n",
              "    background-color: var(--hover-bg-color);\n",
              "    box-shadow: 0 1px 2px rgba(60, 64, 67, 0.3), 0 1px 3px 1px rgba(60, 64, 67, 0.15);\n",
              "    fill: var(--button-hover-fill-color);\n",
              "  }\n",
              "\n",
              "  .colab-df-quickchart-complete:disabled,\n",
              "  .colab-df-quickchart-complete:disabled:hover {\n",
              "    background-color: var(--disabled-bg-color);\n",
              "    fill: var(--disabled-fill-color);\n",
              "    box-shadow: none;\n",
              "  }\n",
              "\n",
              "  .colab-df-spinner {\n",
              "    border: 2px solid var(--fill-color);\n",
              "    border-color: transparent;\n",
              "    border-bottom-color: var(--fill-color);\n",
              "    animation:\n",
              "      spin 1s steps(1) infinite;\n",
              "  }\n",
              "\n",
              "  @keyframes spin {\n",
              "    0% {\n",
              "      border-color: transparent;\n",
              "      border-bottom-color: var(--fill-color);\n",
              "      border-left-color: var(--fill-color);\n",
              "    }\n",
              "    20% {\n",
              "      border-color: transparent;\n",
              "      border-left-color: var(--fill-color);\n",
              "      border-top-color: var(--fill-color);\n",
              "    }\n",
              "    30% {\n",
              "      border-color: transparent;\n",
              "      border-left-color: var(--fill-color);\n",
              "      border-top-color: var(--fill-color);\n",
              "      border-right-color: var(--fill-color);\n",
              "    }\n",
              "    40% {\n",
              "      border-color: transparent;\n",
              "      border-right-color: var(--fill-color);\n",
              "      border-top-color: var(--fill-color);\n",
              "    }\n",
              "    60% {\n",
              "      border-color: transparent;\n",
              "      border-right-color: var(--fill-color);\n",
              "    }\n",
              "    80% {\n",
              "      border-color: transparent;\n",
              "      border-right-color: var(--fill-color);\n",
              "      border-bottom-color: var(--fill-color);\n",
              "    }\n",
              "    90% {\n",
              "      border-color: transparent;\n",
              "      border-bottom-color: var(--fill-color);\n",
              "    }\n",
              "  }\n",
              "</style>\n",
              "\n",
              "  <script>\n",
              "    async function quickchart(key) {\n",
              "      const quickchartButtonEl =\n",
              "        document.querySelector('#' + key + ' button');\n",
              "      quickchartButtonEl.disabled = true;  // To prevent multiple clicks.\n",
              "      quickchartButtonEl.classList.add('colab-df-spinner');\n",
              "      try {\n",
              "        const charts = await google.colab.kernel.invokeFunction(\n",
              "            'suggestCharts', [key], {});\n",
              "      } catch (error) {\n",
              "        console.error('Error during call to suggestCharts:', error);\n",
              "      }\n",
              "      quickchartButtonEl.classList.remove('colab-df-spinner');\n",
              "      quickchartButtonEl.classList.add('colab-df-quickchart-complete');\n",
              "    }\n",
              "    (() => {\n",
              "      let quickchartButtonEl =\n",
              "        document.querySelector('#df-90aa30ad-0ee2-4bba-a9cd-7adb48e4e8e2 button');\n",
              "      quickchartButtonEl.style.display =\n",
              "        google.colab.kernel.accessAllowed ? 'block' : 'none';\n",
              "    })();\n",
              "  </script>\n",
              "</div>\n",
              "    </div>\n",
              "  </div>\n"
            ],
            "application/vnd.google.colaboratory.intrinsic+json": {
              "type": "dataframe",
              "variable_name": "wine",
              "summary": "{\n  \"name\": \"wine\",\n  \"rows\": 27,\n  \"fields\": [\n    {\n      \"column\": \"residual_sugar\",\n      \"properties\": {\n        \"dtype\": \"number\",\n        \"std\": 5.479936858870545,\n        \"min\": 1.1,\n        \"max\": 17.5,\n        \"num_unique_values\": 24,\n        \"samples\": [\n          8.5,\n          4.8,\n          12.2\n        ],\n        \"semantic_type\": \"\",\n        \"description\": \"\"\n      }\n    },\n    {\n      \"column\": \"fixed_acidity\",\n      \"properties\": {\n        \"dtype\": \"number\",\n        \"std\": 0.7230829847597043,\n        \"min\": 5.5,\n        \"max\": 8.5,\n        \"num_unique_values\": 18,\n        \"samples\": [\n          7.4,\n          7.7,\n          6.8\n        ],\n        \"semantic_type\": \"\",\n        \"description\": \"\"\n      }\n    },\n    {\n      \"column\": \"chlorides\",\n      \"properties\": {\n        \"dtype\": \"number\",\n        \"std\": 0.022724912594367718,\n        \"min\": 0.02,\n        \"max\": 0.132,\n        \"num_unique_values\": 20,\n        \"samples\": [\n          0.05,\n          0.023,\n          0.045\n        ],\n        \"semantic_type\": \"\",\n        \"description\": \"\"\n      }\n    },\n    {\n      \"column\": \"density\",\n      \"properties\": {\n        \"dtype\": \"number\",\n        \"std\": 0.002991494352583411,\n        \"min\": 0.99035,\n        \"max\": 0.9994,\n        \"num_unique_values\": 20,\n        \"samples\": [\n          0.9973,\n          0.9994,\n          0.9941\n        ],\n        \"semantic_type\": \"\",\n        \"description\": \"\"\n      }\n    },\n    {\n      \"column\": \"free_sulfur_dioxide\",\n      \"properties\": {\n        \"dtype\": \"number\",\n        \"std\": 17.050097960300416,\n        \"min\": 3.0,\n        \"max\": 82.5,\n        \"num_unique_values\": 22,\n        \"samples\": [\n          57.0,\n          55.0,\n          52.0\n        ],\n        \"semantic_type\": \"\",\n        \"description\": \"\"\n      }\n    }\n  ]\n}"
            }
          },
          "metadata": {},
          "execution_count": 3
        }
      ],
      "source": [
        "wine = pd.read_csv('/content/drive/MyDrive/CS 356/wine1.csv')\n",
        "wine.head()"
      ]
    },
    {
      "cell_type": "code",
      "source": [
        "wine.info()"
      ],
      "metadata": {
        "colab": {
          "base_uri": "https://localhost:8080/"
        },
        "id": "DuQszDE4dia-",
        "outputId": "99daf201-28d3-4986-d202-0ab5b065898b"
      },
      "id": "DuQszDE4dia-",
      "execution_count": 4,
      "outputs": [
        {
          "output_type": "stream",
          "name": "stdout",
          "text": [
            "<class 'pandas.core.frame.DataFrame'>\n",
            "RangeIndex: 27 entries, 0 to 26\n",
            "Data columns (total 5 columns):\n",
            " #   Column               Non-Null Count  Dtype  \n",
            "---  ------               --------------  -----  \n",
            " 0   residual_sugar       27 non-null     float64\n",
            " 1   fixed_acidity        27 non-null     float64\n",
            " 2   chlorides            27 non-null     float64\n",
            " 3   density              27 non-null     float64\n",
            " 4   free_sulfur_dioxide  27 non-null     float64\n",
            "dtypes: float64(5)\n",
            "memory usage: 1.2 KB\n"
          ]
        }
      ]
    },
    {
      "cell_type": "code",
      "execution_count": 5,
      "id": "16459eff-d8b5-4bcb-8555-723bb71d5823",
      "metadata": {
        "colab": {
          "base_uri": "https://localhost:8080/"
        },
        "id": "16459eff-d8b5-4bcb-8555-723bb71d5823",
        "outputId": "63a667c5-3bb1-448a-ce58-b59682fb9c0a"
      },
      "outputs": [
        {
          "output_type": "stream",
          "name": "stdout",
          "text": [
            "[[16.         20.          0.          2.        ]\n",
            " [ 3.         15.          0.26925824  2.        ]\n",
            " [ 5.         10.          0.28284271  2.        ]\n",
            " [ 2.         29.          0.36055513  3.        ]\n",
            " [14.         30.          0.36055513  4.        ]\n",
            " [ 8.         13.          0.4         2.        ]\n",
            " [ 9.         18.          0.4472136   2.        ]\n",
            " [22.         28.          0.54083269  3.        ]\n",
            " [ 7.         34.          0.60827625  4.        ]\n",
            " [12.         32.          0.64031242  3.        ]\n",
            " [ 6.         36.          0.67082039  4.        ]\n",
            " [ 0.         25.          0.67082039  2.        ]\n",
            " [19.         31.          0.8         5.        ]\n",
            " [17.         23.          0.80622577  2.        ]\n",
            " [33.         40.          0.82462113  4.        ]\n",
            " [35.         39.          0.89442719  9.        ]\n",
            " [27.         38.          0.9486833   4.        ]\n",
            " [ 1.         43.          1.          5.        ]\n",
            " [11.         44.          1.0198039   6.        ]\n",
            " [ 4.         26.          1.08166538  2.        ]\n",
            " [21.         41.          1.1045361   5.        ]\n",
            " [45.         46.          1.41421356  8.        ]\n",
            " [37.         47.          1.62788206  9.        ]\n",
            " [24.         48.          2.14009346  9.        ]\n",
            " [42.         49.          2.28254244 18.        ]\n",
            " [50.         51.          3.4        27.        ]]\n"
          ]
        }
      ],
      "source": [
        "# Calculate a distance matrix with selected variables\n",
        "X = wine[['residual_sugar', 'fixed_acidity']]\n",
        "\n",
        "scaler = StandardScaler()\n",
        "X_scaled = scaler.fit_transform(X)\n",
        "\n",
        "# pdist() calculates pairs of distances between each instance in the dataset\n",
        "dist = pdist(X)\n",
        "\n",
        "clusterModel = linkage(dist, method='single')\n",
        "\n",
        "# Compute the distance matrix\n",
        "dist = pdist(X_scaled)\n",
        "\n",
        "# Perform hierarchical clustering using the centroid method\n",
        "#clusterModel = linkage(dist, method='centroid')\n",
        "print(clusterModel)"
      ]
    },
    {
      "cell_type": "code",
      "execution_count": 6,
      "id": "e7ab5620-7285-4ca1-9e85-67184468dfc1",
      "metadata": {
        "colab": {
          "base_uri": "https://localhost:8080/",
          "height": 650
        },
        "id": "e7ab5620-7285-4ca1-9e85-67184468dfc1",
        "outputId": "6a411320-f3b1-4c78-8f93-1ee9d3e0420e"
      },
      "outputs": [
        {
          "output_type": "display_data",
          "data": {
            "text/plain": [
              "<Figure size 1000x700 with 1 Axes>"
            ],
            "image/png": "[encoded data removed]"
          },
          "metadata": {}
        }
      ],
      "source": [
        "\n",
        "# Plot the dendrogram\n",
        "plt.figure(figsize=(10, 7))\n",
        "dendrogram(clusterModel)\n",
        "plt.title('Dendrogram')\n",
        "plt.xlabel('Sample index')\n",
        "plt.ylabel('Distance')\n",
        "plt.show()\n"
      ]
    },
    {
      "cell_type": "code",
      "source": [
        "# Perform hierarchical clustering using the centroid method\n",
        "clusterModel1 = linkage(dist, method='centroid')\n",
        "print(clusterModel)"
      ],
      "metadata": {
        "colab": {
          "base_uri": "https://localhost:8080/"
        },
        "id": "a6MFjUD9H3yJ",
        "outputId": "19964f60-b872-465c-eeb2-bb38d101d030"
      },
      "id": "a6MFjUD9H3yJ",
      "execution_count": 7,
      "outputs": [
        {
          "output_type": "stream",
          "name": "stdout",
          "text": [
            "[[16.         20.          0.          2.        ]\n",
            " [ 3.         15.          0.26925824  2.        ]\n",
            " [ 5.         10.          0.28284271  2.        ]\n",
            " [ 2.         29.          0.36055513  3.        ]\n",
            " [14.         30.          0.36055513  4.        ]\n",
            " [ 8.         13.          0.4         2.        ]\n",
            " [ 9.         18.          0.4472136   2.        ]\n",
            " [22.         28.          0.54083269  3.        ]\n",
            " [ 7.         34.          0.60827625  4.        ]\n",
            " [12.         32.          0.64031242  3.        ]\n",
            " [ 6.         36.          0.67082039  4.        ]\n",
            " [ 0.         25.          0.67082039  2.        ]\n",
            " [19.         31.          0.8         5.        ]\n",
            " [17.         23.          0.80622577  2.        ]\n",
            " [33.         40.          0.82462113  4.        ]\n",
            " [35.         39.          0.89442719  9.        ]\n",
            " [27.         38.          0.9486833   4.        ]\n",
            " [ 1.         43.          1.          5.        ]\n",
            " [11.         44.          1.0198039   6.        ]\n",
            " [ 4.         26.          1.08166538  2.        ]\n",
            " [21.         41.          1.1045361   5.        ]\n",
            " [45.         46.          1.41421356  8.        ]\n",
            " [37.         47.          1.62788206  9.        ]\n",
            " [24.         48.          2.14009346  9.        ]\n",
            " [42.         49.          2.28254244 18.        ]\n",
            " [50.         51.          3.4        27.        ]]\n"
          ]
        }
      ]
    },
    {
      "cell_type": "code",
      "source": [
        "# Plot the dendrogram\n",
        "plt.figure(figsize=(10, 7))\n",
        "dendrogram(clusterModel1)\n",
        "plt.title('Dendrogram')\n",
        "plt.xlabel('Sample index')\n",
        "plt.ylabel('Distance')\n",
        "plt.show()\n"
      ],
      "metadata": {
        "id": "KcxKWOYVIAvy",
        "outputId": "f9f8b775-c0ff-4053-8e27-d04999dbcea9",
        "colab": {
          "base_uri": "https://localhost:8080/",
          "height": 650
        }
      },
      "id": "KcxKWOYVIAvy",
      "execution_count": 8,
      "outputs": [
        {
          "output_type": "display_data",
          "data": {
            "text/plain": [
              "<Figure size 1000x700 with 1 Axes>"
            ],
            "image/png": "[encoded data removed]"
          },
          "metadata": {}
        }
      ]
    },
    {
      "cell_type": "markdown",
      "id": "7ce7b6cf-a7e6-4558-b53d-3a93c24cdd11",
      "metadata": {
        "id": "7ce7b6cf-a7e6-4558-b53d-3a93c24cdd11"
      },
      "source": [
        "1. What does linkage mean? single? linkage matrix?\n",
        "2. Interpret the linkage matrix and dendrogram together- what is happening in each step in the printout of the clusterModel?\n",
        "3. Change the linkage method to centroid. Plot it above, in addition to the first plot. How did your dendrogram change?\n",
        "4. What does centroid mean?\n",
        "5. What distance would you choose to decide the number of clusters?\n",
        "6. What is one way you could use this visualization to understand more about your samples?\n",
        "7. How might you label your clusters? Try to label your clusters and replot your dendrogram"
      ]
    },
    {
      "cell_type": "markdown",
      "source": [
        "#1. What does linkage mean? single? linkage matrix?\n",
        "\n",
        "Linkage refers to the method used to calculate the distance between clusters which determines how many clusters are merged at each step. Single linkage calculates the distance between the clusters as the shortest distance between any member of one cluster to any member of the other cluster. Linkage matrix is produced during the hierarchial clustering and shows the record for the merge of clusters."
      ],
      "metadata": {
        "id": "nTYm372_FXoZ"
      },
      "id": "nTYm372_FXoZ"
    },
    {
      "cell_type": "markdown",
      "source": [
        "#2.Interpret the linkage matrix and dendrogram together- what is happening in each step in the printout of the clusterModel?\n",
        "\n"
      ],
      "metadata": {
        "id": "G7D-_o2LFZaq"
      },
      "id": "G7D-_o2LFZaq"
    },
    {
      "cell_type": "markdown",
      "source": [
        "The lineage matrix shows a step-by-step account of the cluster fusion process. Each row tells you which clusters were merged, at what distance they were merged at, and how many data points are in the newly formed cluster. It startes with the closest pairs and continues that process until all of the data points are in a single cluster. Column 0 and 1 is the indicies of the merged clusters, column 2 is the distance at which the two clusters were merged - how similar/different the clusters were. Column 3 is the total number of original samples in the new cluster. The dendrogram visually represents that process. Vertical lines show the merge points, and the height of the vertical line represents the distance at which the cluster was merged. The horizontal lines connect the clusters being merged."
      ],
      "metadata": {
        "id": "XiMy3RW1P26J"
      },
      "id": "XiMy3RW1P26J"
    },
    {
      "cell_type": "markdown",
      "source": [
        "Clusters 16 and 20 merge at a distance of 0 and create a new cluster with 2 data points. Each row after indicates further merges which on the dendrogram is shown by a slightly taller vertical line connecting the clusters. As the merge progresses the distances increase indicating that the algorithim is merging clusters that are less similar. The final merge happens at a distance of 3.4 which is the highest line in the dendrogram, and indicates the highest lvel of dissimlarity in the hierarchial structure. It contails 27 samples - which is all of the data points."
      ],
      "metadata": {
        "id": "dAbwF9w-TNij"
      },
      "id": "dAbwF9w-TNij"
    },
    {
      "cell_type": "markdown",
      "source": [
        "#3. Change the linkage method to centroid. Plot it above, in addition to the first plot. How did your dendrogram change?"
      ],
      "metadata": {
        "id": "8SkR2UUeGCER"
      },
      "id": "8SkR2UUeGCER"
    },
    {
      "cell_type": "markdown",
      "source": [
        "The centroid method is more balanced and the clusters are joined at a more uniform level across the dataset. The final merge happens at a distance of 2 with 18 data points showing a more meaningful cluster than the other methods of 3.4 with 27 samples. Its starts off very similar. But, the early merges occur at lower distances than the sibngle linkage and is more gradual and controlled."
      ],
      "metadata": {
        "id": "V4L9eHR9Vbfv"
      },
      "id": "V4L9eHR9Vbfv"
    },
    {
      "cell_type": "markdown",
      "source": [
        "#4. What does centroid mean?"
      ],
      "metadata": {
        "id": "s6cUx5CXGDgb"
      },
      "id": "s6cUx5CXGDgb"
    },
    {
      "cell_type": "markdown",
      "source": [
        "The centroid is the mean position of all of the data points in a set and is the center of mass.\n",
        "\n",
        "In the linkage method, the distance between two clusters is the distance between their centroids"
      ],
      "metadata": {
        "id": "jymRLXCTWU_p"
      },
      "id": "jymRLXCTWU_p"
    },
    {
      "cell_type": "markdown",
      "source": [
        "#5.What distance would you choose to decide the number of clusters?"
      ],
      "metadata": {
        "id": "h8JZnBlsGGgW"
      },
      "id": "h8JZnBlsGGgW"
    },
    {
      "cell_type": "markdown",
      "source": [
        "look for a large jump/gap in the linkage distances, and cut the dendrogram there as the large increase shows diminising similarities between the clusters and would be a good place to seperate the clusters. In this single linkage method the best place to cutoff would be at a height of around 2.5."
      ],
      "metadata": {
        "id": "NHHsDmKmXGKw"
      },
      "id": "NHHsDmKmXGKw"
    },
    {
      "cell_type": "markdown",
      "source": [
        "#6. What is one way you could use this visualization to understand more about your samples?"
      ],
      "metadata": {
        "id": "zAbrgzLzGKOC"
      },
      "id": "zAbrgzLzGKOC"
    },
    {
      "cell_type": "markdown",
      "source": [
        "1. Identifying natural groupings and determine key dividers: To see how the samples are related to each other in terms of underlying features such as similar acidity and sugar levels which can correspond to similar taste porfiles. It can also help pinpoint wines that dont match the expected chemical profile that may indicate porblems with the fermenation/storage.\n",
        "2. Can identify outliers if certain samples merged at significantly higher distances than others."
      ],
      "metadata": {
        "id": "QjPQxjx2Yava"
      },
      "id": "QjPQxjx2Yava"
    },
    {
      "cell_type": "markdown",
      "source": [
        "#7.How might you label your clusters? Try to label your clusters and replot your dendrogram"
      ],
      "metadata": {
        "id": "RAhXh_lgGP_A"
      },
      "id": "RAhXh_lgGP_A"
    },
    {
      "cell_type": "code",
      "source": [
        "# Plot the dendrogram\n",
        "plt.figure(figsize=(10, 7))\n",
        "dendrogram(clusterModel1)\n",
        "plt.title('Dendrogram')\n",
        "plt.xlabel('Sample index')\n",
        "plt.ylabel('Distance')\n",
        "\n",
        "# Draw lines at suggested cut heights\n",
        "cut_heights = [1.1, 1.5]\n",
        "for cut_height in cut_heights:\n",
        "    plt.axhline(y=cut_height, color='r', linestyle='--')\n",
        "\n",
        "plt.show()"
      ],
      "metadata": {
        "colab": {
          "base_uri": "https://localhost:8080/",
          "height": 650
        },
        "id": "M64PqlrLcHcN",
        "outputId": "8b820af4-6eb6-43e2-ee01-434991a90212"
      },
      "id": "M64PqlrLcHcN",
      "execution_count": 9,
      "outputs": [
        {
          "output_type": "display_data",
          "data": {
            "text/plain": [
              "<Figure size 1000x700 with 1 Axes>"
            ],
            "image/png": "[encoded data removed]"
          },
          "metadata": {}
        }
      ]
    },
    {
      "cell_type": "markdown",
      "source": [
        "I'm going to say there are 5 clusters, and cutoff at 1.5"
      ],
      "metadata": {
        "id": "ABOT4xg7eFs6"
      },
      "id": "ABOT4xg7eFs6"
    },
    {
      "cell_type": "code",
      "source": [
        "\n",
        "from scipy.cluster.hierarchy import fcluster, linkage\n",
        "# Define the threshold distance\n",
        "threshold_distance = 1.5\n",
        "\n",
        "# Using fcluster to form flat clusters from the linkage matrix\n",
        "clusters = fcluster(clusterModel1, threshold_distance, criterion='distance')\n",
        "\n",
        "\n",
        "wine['Cluster'] = clusters\n",
        "print(wine.groupby('Cluster')[['residual_sugar', 'fixed_acidity']].apply(lambda x: x.values.tolist()))\n",
        "\n",
        "\n",
        "plt.figure(figsize=(10, 8))\n",
        "dendrogram(clusterModel1)\n",
        "plt.axhline(y=threshold_distance, color='r', linestyle='--')\n",
        "plt.title('Dendrogram with Cut at Distance 1.5')\n",
        "plt.xlabel('Index of Points')\n",
        "plt.ylabel('Cluster Distance')\n",
        "plt.show()"
      ],
      "metadata": {
        "colab": {
          "base_uri": "https://localhost:8080/",
          "height": 849
        },
        "id": "v8DIyvKbe0WB",
        "outputId": "dfcdf230-43af-41c2-ca47-c957ced0b55c"
      },
      "id": "v8DIyvKbe0WB",
      "execution_count": 10,
      "outputs": [
        {
          "output_type": "stream",
          "name": "stdout",
          "text": [
            "Cluster\n",
            "1              [[13.9, 7.7], [16.2, 8.5], [15.3, 7.9]]\n",
            "2    [[12.2, 7.4], [12.9, 6.1], [13.1, 7.1], [13.1,...\n",
            "3                [[1.45, 8.1], [1.2, 8.2], [1.9, 7.8]]\n",
            "4    [[1.6, 6.4], [1.3, 6.6], [7.0, 7.5], [2.0, 7.2...\n",
            "5                                         [[1.1, 5.5]]\n",
            "dtype: object\n"
          ]
        },
        {
          "output_type": "display_data",
          "data": {
            "text/plain": [
              "<Figure size 1000x800 with 1 Axes>"
            ],
            "image/png": "[encoded data removed]"
          },
          "metadata": {}
        }
      ]
    },
    {
      "cell_type": "code",
      "source": [
        "# Scatter plot of the clusters\n",
        "plt.figure(figsize=(10, 6))\n",
        "for cluster in wine['Cluster'].unique():\n",
        "    cluster_data = wine[wine['Cluster'] == cluster]\n",
        "    plt.scatter(cluster_data['residual_sugar'], cluster_data['fixed_acidity'], label=f'Cluster {cluster}')\n",
        "plt.title('Scatter Plot of Clusters')\n",
        "plt.xlabel('Residual Sugar')\n",
        "plt.ylabel('Fixed Acidity')\n",
        "plt.legend()\n",
        "plt.show()\n"
      ],
      "metadata": {
        "colab": {
          "base_uri": "https://localhost:8080/",
          "height": 564
        },
        "id": "DOaYIjPVf2i_",
        "outputId": "4e6337b4-798b-462f-8aed-836703b46303"
      },
      "id": "DOaYIjPVf2i_",
      "execution_count": 11,
      "outputs": [
        {
          "output_type": "display_data",
          "data": {
            "text/plain": [
              "<Figure size 1000x600 with 1 Axes>"
            ],
            "image/png": "[encoded data removed]"
          },
          "metadata": {}
        }
      ]
    },
    {
      "cell_type": "markdown",
      "source": [
        "You can kind of see the dendrogram in this scatter plot. I can see which points would be grouped together if I did a smaller cutoff."
      ],
      "metadata": {
        "id": "j3gdbymMhiMR"
      },
      "id": "j3gdbymMhiMR"
    },
    {
      "cell_type": "markdown",
      "id": "e4558c74-ec43-4ae5-86b3-3101088ef0d2",
      "metadata": {
        "id": "e4558c74-ec43-4ae5-86b3-3101088ef0d2"
      },
      "source": [
        "## DBSCAN\n",
        "The main idea behind the DBSCAN algorithm is that connected core points and corresponding boundary points form a single cluster. An instance that is neither a core point nor a boundary point will be classified as an outlier.\n",
        "\n",
        "The DBSCAN algorithm requires two parameters:\n",
        "\n",
        "epsilon or ε - the radius of the spherical region\n",
        "min_samples - the minimum number of samples, or instances, for a point to be a core point\n",
        "\n",
        "Given ε and min_samples, the following steps outline the DBSCAN algorithm:\n",
        "\n",
        "Step 1: Count the number of points within the ε-neighborhood of each instance and classify as core points instances whose ε-neighborhood has at least min_samples of points.\n",
        "\n",
        "Step 2: Identify the core points that are within the ε-neighborhood of other core points. These connected core points form a single cluster.\n",
        "\n",
        "Step 3: Assign points that are within the ε-neighborhood of a cluster to that cluster.\n",
        "\n",
        "Step 4: Assign points that are not within the ε-neighborhood of a cluster as outliers."
      ]
    },
    {
      "cell_type": "code",
      "execution_count": 12,
      "id": "ef25e2ff-72b1-4ef3-a5cc-1acb13dce978",
      "metadata": {
        "colab": {
          "base_uri": "https://localhost:8080/",
          "height": 771
        },
        "id": "ef25e2ff-72b1-4ef3-a5cc-1acb13dce978",
        "outputId": "b6a01209-ad1c-4fcd-8e7f-8df7d931d93a"
      },
      "outputs": [
        {
          "output_type": "execute_result",
          "data": {
            "text/plain": [
              "    sulphates  total_sulfur_dioxide  density  citric_acid  alcohol\n",
              "0        0.38                    80  0.99320         0.10      9.3\n",
              "1        0.46                   135  0.99200         0.42     11.0\n",
              "2        0.50                   167  1.00100         0.40      8.7\n",
              "3        0.46                   122  0.99270         0.27     10.3\n",
              "4        0.37                    87  0.98980         0.36     12.7\n",
              "5        0.37                    76  0.99050         0.26     10.9\n",
              "6        0.52                   206  0.99400         0.26      9.8\n",
              "7        0.75                   138  0.99170         0.37     11.4\n",
              "8        0.42                   124  0.98980         0.24     12.4\n",
              "9        0.95                   117  0.99340         0.36      9.5\n",
              "10       0.58                    75  0.99085         0.31     11.1\n",
              "11       0.61                   153  0.99280         0.50      9.8\n",
              "12       0.53                   171  0.99170         0.42     11.3\n",
              "13       0.61                   213  0.99715         0.22      9.3\n",
              "14       0.61                   163  0.99390         0.00      9.9\n",
              "15       0.45                   148  0.99270         0.21      9.4\n",
              "16       0.38                   117  0.99350         0.39     12.0\n",
              "17       0.54                   117  0.99300         0.38      9.7\n",
              "18       0.38                   134  0.99270         0.34     10.6\n",
              "19       0.42                   105  0.99100         0.33     11.2\n",
              "20       0.52                   203  0.99610         0.22      8.9\n",
              "21       0.52                    77  0.99390         0.42     11.7\n",
              "22       0.53                   157  0.99690         0.28      9.2"
            ],
            "text/html": [
              "\n",
              "  <div id=\"df-4af3166a-d6b5-49e6-8cac-bc8ea0224f62\" class=\"colab-df-container\">\n",
              "    <div>\n",
              "<style scoped>\n",
              "    .dataframe tbody tr th:only-of-type {\n",
              "        vertical-align: middle;\n",
              "    }\n",
              "\n",
              "    .dataframe tbody tr th {\n",
              "        vertical-align: top;\n",
              "    }\n",
              "\n",
              "    .dataframe thead th {\n",
              "        text-align: right;\n",
              "    }\n",
              "</style>\n",
              "<table border=\"1\" class=\"dataframe\">\n",
              "  <thead>\n",
              "    <tr style=\"text-align: right;\">\n",
              "      <th></th>\n",
              "      <th>sulphates</th>\n",
              "      <th>total_sulfur_dioxide</th>\n",
              "      <th>density</th>\n",
              "      <th>citric_acid</th>\n",
              "      <th>alcohol</th>\n",
              "    </tr>\n",
              "  </thead>\n",
              "  <tbody>\n",
              "    <tr>\n",
              "      <th>0</th>\n",
              "      <td>0.38</td>\n",
              "      <td>80</td>\n",
              "      <td>0.99320</td>\n",
              "      <td>0.10</td>\n",
              "      <td>9.3</td>\n",
              "    </tr>\n",
              "    <tr>\n",
              "      <th>1</th>\n",
              "      <td>0.46</td>\n",
              "      <td>135</td>\n",
              "      <td>0.99200</td>\n",
              "      <td>0.42</td>\n",
              "      <td>11.0</td>\n",
              "    </tr>\n",
              "    <tr>\n",
              "      <th>2</th>\n",
              "      <td>0.50</td>\n",
              "      <td>167</td>\n",
              "      <td>1.00100</td>\n",
              "      <td>0.40</td>\n",
              "      <td>8.7</td>\n",
              "    </tr>\n",
              "    <tr>\n",
              "      <th>3</th>\n",
              "      <td>0.46</td>\n",
              "      <td>122</td>\n",
              "      <td>0.99270</td>\n",
              "      <td>0.27</td>\n",
              "      <td>10.3</td>\n",
              "    </tr>\n",
              "    <tr>\n",
              "      <th>4</th>\n",
              "      <td>0.37</td>\n",
              "      <td>87</td>\n",
              "      <td>0.98980</td>\n",
              "      <td>0.36</td>\n",
              "      <td>12.7</td>\n",
              "    </tr>\n",
              "    <tr>\n",
              "      <th>5</th>\n",
              "      <td>0.37</td>\n",
              "      <td>76</td>\n",
              "      <td>0.99050</td>\n",
              "      <td>0.26</td>\n",
              "      <td>10.9</td>\n",
              "    </tr>\n",
              "    <tr>\n",
              "      <th>6</th>\n",
              "      <td>0.52</td>\n",
              "      <td>206</td>\n",
              "      <td>0.99400</td>\n",
              "      <td>0.26</td>\n",
              "      <td>9.8</td>\n",
              "    </tr>\n",
              "    <tr>\n",
              "      <th>7</th>\n",
              "      <td>0.75</td>\n",
              "      <td>138</td>\n",
              "      <td>0.99170</td>\n",
              "      <td>0.37</td>\n",
              "      <td>11.4</td>\n",
              "    </tr>\n",
              "    <tr>\n",
              "      <th>8</th>\n",
              "      <td>0.42</td>\n",
              "      <td>124</td>\n",
              "      <td>0.98980</td>\n",
              "      <td>0.24</td>\n",
              "      <td>12.4</td>\n",
              "    </tr>\n",
              "    <tr>\n",
              "      <th>9</th>\n",
              "      <td>0.95</td>\n",
              "      <td>117</td>\n",
              "      <td>0.99340</td>\n",
              "      <td>0.36</td>\n",
              "      <td>9.5</td>\n",
              "    </tr>\n",
              "    <tr>\n",
              "      <th>10</th>\n",
              "      <td>0.58</td>\n",
              "      <td>75</td>\n",
              "      <td>0.99085</td>\n",
              "      <td>0.31</td>\n",
              "      <td>11.1</td>\n",
              "    </tr>\n",
              "    <tr>\n",
              "      <th>11</th>\n",
              "      <td>0.61</td>\n",
              "      <td>153</td>\n",
              "      <td>0.99280</td>\n",
              "      <td>0.50</td>\n",
              "      <td>9.8</td>\n",
              "    </tr>\n",
              "    <tr>\n",
              "      <th>12</th>\n",
              "      <td>0.53</td>\n",
              "      <td>171</td>\n",
              "      <td>0.99170</td>\n",
              "      <td>0.42</td>\n",
              "      <td>11.3</td>\n",
              "    </tr>\n",
              "    <tr>\n",
              "      <th>13</th>\n",
              "      <td>0.61</td>\n",
              "      <td>213</td>\n",
              "      <td>0.99715</td>\n",
              "      <td>0.22</td>\n",
              "      <td>9.3</td>\n",
              "    </tr>\n",
              "    <tr>\n",
              "      <th>14</th>\n",
              "      <td>0.61</td>\n",
              "      <td>163</td>\n",
              "      <td>0.99390</td>\n",
              "      <td>0.00</td>\n",
              "      <td>9.9</td>\n",
              "    </tr>\n",
              "    <tr>\n",
              "      <th>15</th>\n",
              "      <td>0.45</td>\n",
              "      <td>148</td>\n",
              "      <td>0.99270</td>\n",
              "      <td>0.21</td>\n",
              "      <td>9.4</td>\n",
              "    </tr>\n",
              "    <tr>\n",
              "      <th>16</th>\n",
              "      <td>0.38</td>\n",
              "      <td>117</td>\n",
              "      <td>0.99350</td>\n",
              "      <td>0.39</td>\n",
              "      <td>12.0</td>\n",
              "    </tr>\n",
              "    <tr>\n",
              "      <th>17</th>\n",
              "      <td>0.54</td>\n",
              "      <td>117</td>\n",
              "      <td>0.99300</td>\n",
              "      <td>0.38</td>\n",
              "      <td>9.7</td>\n",
              "    </tr>\n",
              "    <tr>\n",
              "      <th>18</th>\n",
              "      <td>0.38</td>\n",
              "      <td>134</td>\n",
              "      <td>0.99270</td>\n",
              "      <td>0.34</td>\n",
              "      <td>10.6</td>\n",
              "    </tr>\n",
              "    <tr>\n",
              "      <th>19</th>\n",
              "      <td>0.42</td>\n",
              "      <td>105</td>\n",
              "      <td>0.99100</td>\n",
              "      <td>0.33</td>\n",
              "      <td>11.2</td>\n",
              "    </tr>\n",
              "    <tr>\n",
              "      <th>20</th>\n",
              "      <td>0.52</td>\n",
              "      <td>203</td>\n",
              "      <td>0.99610</td>\n",
              "      <td>0.22</td>\n",
              "      <td>8.9</td>\n",
              "    </tr>\n",
              "    <tr>\n",
              "      <th>21</th>\n",
              "      <td>0.52</td>\n",
              "      <td>77</td>\n",
              "      <td>0.99390</td>\n",
              "      <td>0.42</td>\n",
              "      <td>11.7</td>\n",
              "    </tr>\n",
              "    <tr>\n",
              "      <th>22</th>\n",
              "      <td>0.53</td>\n",
              "      <td>157</td>\n",
              "      <td>0.99690</td>\n",
              "      <td>0.28</td>\n",
              "      <td>9.2</td>\n",
              "    </tr>\n",
              "  </tbody>\n",
              "</table>\n",
              "</div>\n",
              "    <div class=\"colab-df-buttons\">\n",
              "\n",
              "  <div class=\"colab-df-container\">\n",
              "    <button class=\"colab-df-convert\" onclick=\"convertToInteractive('df-4af3166a-d6b5-49e6-8cac-bc8ea0224f62')\"\n",
              "            title=\"Convert this dataframe to an interactive table.\"\n",
              "            style=\"display:none;\">\n",
              "\n",
              "  <svg xmlns=\"http://www.w3.org/2000/svg\" height=\"24px\" viewBox=\"0 -960 960 960\">\n",
              "    <path d=\"M120-120v-720h720v720H120Zm60-500h600v-160H180v160Zm220 220h160v-160H400v160Zm0 220h160v-160H400v160ZM180-400h160v-160H180v160Zm440 0h160v-160H620v160ZM180-180h160v-160H180v160Zm440 0h160v-160H620v160Z\"/>\n",
              "  </svg>\n",
              "    </button>\n",
              "\n",
              "  <style>\n",
              "    .colab-df-container {\n",
              "      display:flex;\n",
              "      gap: 12px;\n",
              "    }\n",
              "\n",
              "    .colab-df-convert {\n",
              "      background-color: #E8F0FE;\n",
              "      border: none;\n",
              "      border-radius: 50%;\n",
              "      cursor: pointer;\n",
              "      display: none;\n",
              "      fill: #1967D2;\n",
              "      height: 32px;\n",
              "      padding: 0 0 0 0;\n",
              "      width: 32px;\n",
              "    }\n",
              "\n",
              "    .colab-df-convert:hover {\n",
              "      background-color: #E2EBFA;\n",
              "      box-shadow: 0px 1px 2px rgba(60, 64, 67, 0.3), 0px 1px 3px 1px rgba(60, 64, 67, 0.15);\n",
              "      fill: #174EA6;\n",
              "    }\n",
              "\n",
              "    .colab-df-buttons div {\n",
              "      margin-bottom: 4px;\n",
              "    }\n",
              "\n",
              "    [theme=dark] .colab-df-convert {\n",
              "      background-color: #3B4455;\n",
              "      fill: #D2E3FC;\n",
              "    }\n",
              "\n",
              "    [theme=dark] .colab-df-convert:hover {\n",
              "      background-color: #434B5C;\n",
              "      box-shadow: 0px 1px 3px 1px rgba(0, 0, 0, 0.15);\n",
              "      filter: drop-shadow(0px 1px 2px rgba(0, 0, 0, 0.3));\n",
              "      fill: #FFFFFF;\n",
              "    }\n",
              "  </style>\n",
              "\n",
              "    <script>\n",
              "      const buttonEl =\n",
              "        document.querySelector('#df-4af3166a-d6b5-49e6-8cac-bc8ea0224f62 button.colab-df-convert');\n",
              "      buttonEl.style.display =\n",
              "        google.colab.kernel.accessAllowed ? 'block' : 'none';\n",
              "\n",
              "      async function convertToInteractive(key) {\n",
              "        const element = document.querySelector('#df-4af3166a-d6b5-49e6-8cac-bc8ea0224f62');\n",
              "        const dataTable =\n",
              "          await google.colab.kernel.invokeFunction('convertToInteractive',\n",
              "                                                    [key], {});\n",
              "        if (!dataTable) return;\n",
              "\n",
              "        const docLinkHtml = 'Like what you see? Visit the ' +\n",
              "          '<a target=\"_blank\" href=https://colab.research.google.com/notebooks/data_table.ipynb>data table notebook</a>'\n",
              "          + ' to learn more about interactive tables.';\n",
              "        element.innerHTML = '';\n",
              "        dataTable['output_type'] = 'display_data';\n",
              "        await google.colab.output.renderOutput(dataTable, element);\n",
              "        const docLink = document.createElement('div');\n",
              "        docLink.innerHTML = docLinkHtml;\n",
              "        element.appendChild(docLink);\n",
              "      }\n",
              "    </script>\n",
              "  </div>\n",
              "\n",
              "\n",
              "<div id=\"df-8d02a54c-a69a-4064-b1c9-8992967189d8\">\n",
              "  <button class=\"colab-df-quickchart\" onclick=\"quickchart('df-8d02a54c-a69a-4064-b1c9-8992967189d8')\"\n",
              "            title=\"Suggest charts\"\n",
              "            style=\"display:none;\">\n",
              "\n",
              "<svg xmlns=\"http://www.w3.org/2000/svg\" height=\"24px\"viewBox=\"0 0 24 24\"\n",
              "     width=\"24px\">\n",
              "    <g>\n",
              "        <path d=\"M19 3H5c-1.1 0-2 .9-2 2v14c0 1.1.9 2 2 2h14c1.1 0 2-.9 2-2V5c0-1.1-.9-2-2-2zM9 17H7v-7h2v7zm4 0h-2V7h2v10zm4 0h-2v-4h2v4z\"/>\n",
              "    </g>\n",
              "</svg>\n",
              "  </button>\n",
              "\n",
              "<style>\n",
              "  .colab-df-quickchart {\n",
              "      --bg-color: #E8F0FE;\n",
              "      --fill-color: #1967D2;\n",
              "      --hover-bg-color: #E2EBFA;\n",
              "      --hover-fill-color: #174EA6;\n",
              "      --disabled-fill-color: #AAA;\n",
              "      --disabled-bg-color: #DDD;\n",
              "  }\n",
              "\n",
              "  [theme=dark] .colab-df-quickchart {\n",
              "      --bg-color: #3B4455;\n",
              "      --fill-color: #D2E3FC;\n",
              "      --hover-bg-color: #434B5C;\n",
              "      --hover-fill-color: #FFFFFF;\n",
              "      --disabled-bg-color: #3B4455;\n",
              "      --disabled-fill-color: #666;\n",
              "  }\n",
              "\n",
              "  .colab-df-quickchart {\n",
              "    background-color: var(--bg-color);\n",
              "    border: none;\n",
              "    border-radius: 50%;\n",
              "    cursor: pointer;\n",
              "    display: none;\n",
              "    fill: var(--fill-color);\n",
              "    height: 32px;\n",
              "    padding: 0;\n",
              "    width: 32px;\n",
              "  }\n",
              "\n",
              "  .colab-df-quickchart:hover {\n",
              "    background-color: var(--hover-bg-color);\n",
              "    box-shadow: 0 1px 2px rgba(60, 64, 67, 0.3), 0 1px 3px 1px rgba(60, 64, 67, 0.15);\n",
              "    fill: var(--button-hover-fill-color);\n",
              "  }\n",
              "\n",
              "  .colab-df-quickchart-complete:disabled,\n",
              "  .colab-df-quickchart-complete:disabled:hover {\n",
              "    background-color: var(--disabled-bg-color);\n",
              "    fill: var(--disabled-fill-color);\n",
              "    box-shadow: none;\n",
              "  }\n",
              "\n",
              "  .colab-df-spinner {\n",
              "    border: 2px solid var(--fill-color);\n",
              "    border-color: transparent;\n",
              "    border-bottom-color: var(--fill-color);\n",
              "    animation:\n",
              "      spin 1s steps(1) infinite;\n",
              "  }\n",
              "\n",
              "  @keyframes spin {\n",
              "    0% {\n",
              "      border-color: transparent;\n",
              "      border-bottom-color: var(--fill-color);\n",
              "      border-left-color: var(--fill-color);\n",
              "    }\n",
              "    20% {\n",
              "      border-color: transparent;\n",
              "      border-left-color: var(--fill-color);\n",
              "      border-top-color: var(--fill-color);\n",
              "    }\n",
              "    30% {\n",
              "      border-color: transparent;\n",
              "      border-left-color: var(--fill-color);\n",
              "      border-top-color: var(--fill-color);\n",
              "      border-right-color: var(--fill-color);\n",
              "    }\n",
              "    40% {\n",
              "      border-color: transparent;\n",
              "      border-right-color: var(--fill-color);\n",
              "      border-top-color: var(--fill-color);\n",
              "    }\n",
              "    60% {\n",
              "      border-color: transparent;\n",
              "      border-right-color: var(--fill-color);\n",
              "    }\n",
              "    80% {\n",
              "      border-color: transparent;\n",
              "      border-right-color: var(--fill-color);\n",
              "      border-bottom-color: var(--fill-color);\n",
              "    }\n",
              "    90% {\n",
              "      border-color: transparent;\n",
              "      border-bottom-color: var(--fill-color);\n",
              "    }\n",
              "  }\n",
              "</style>\n",
              "\n",
              "  <script>\n",
              "    async function quickchart(key) {\n",
              "      const quickchartButtonEl =\n",
              "        document.querySelector('#' + key + ' button');\n",
              "      quickchartButtonEl.disabled = true;  // To prevent multiple clicks.\n",
              "      quickchartButtonEl.classList.add('colab-df-spinner');\n",
              "      try {\n",
              "        const charts = await google.colab.kernel.invokeFunction(\n",
              "            'suggestCharts', [key], {});\n",
              "      } catch (error) {\n",
              "        console.error('Error during call to suggestCharts:', error);\n",
              "      }\n",
              "      quickchartButtonEl.classList.remove('colab-df-spinner');\n",
              "      quickchartButtonEl.classList.add('colab-df-quickchart-complete');\n",
              "    }\n",
              "    (() => {\n",
              "      let quickchartButtonEl =\n",
              "        document.querySelector('#df-8d02a54c-a69a-4064-b1c9-8992967189d8 button');\n",
              "      quickchartButtonEl.style.display =\n",
              "        google.colab.kernel.accessAllowed ? 'block' : 'none';\n",
              "    })();\n",
              "  </script>\n",
              "</div>\n",
              "    </div>\n",
              "  </div>\n"
            ],
            "application/vnd.google.colaboratory.intrinsic+json": {
              "type": "dataframe",
              "variable_name": "wineDB",
              "summary": "{\n  \"name\": \"wineDB\",\n  \"rows\": 23,\n  \"fields\": [\n    {\n      \"column\": \"sulphates\",\n      \"properties\": {\n        \"dtype\": \"number\",\n        \"std\": 0.13520442727274207,\n        \"min\": 0.37,\n        \"max\": 0.95,\n        \"num_unique_values\": 13,\n        \"samples\": [\n          0.45,\n          0.61,\n          0.38\n        ],\n        \"semantic_type\": \"\",\n        \"description\": \"\"\n      }\n    },\n    {\n      \"column\": \"total_sulfur_dioxide\",\n      \"properties\": {\n        \"dtype\": \"number\",\n        \"std\": 41,\n        \"min\": 75,\n        \"max\": 213,\n        \"num_unique_values\": 21,\n        \"samples\": [\n          80,\n          105,\n          148\n        ],\n        \"semantic_type\": \"\",\n        \"description\": \"\"\n      }\n    },\n    {\n      \"column\": \"density\",\n      \"properties\": {\n        \"dtype\": \"number\",\n        \"std\": 0.002593117601128132,\n        \"min\": 0.9898,\n        \"max\": 1.001,\n        \"num_unique_values\": 18,\n        \"samples\": [\n          0.9932,\n          0.992,\n          0.9934\n        ],\n        \"semantic_type\": \"\",\n        \"description\": \"\"\n      }\n    },\n    {\n      \"column\": \"citric_acid\",\n      \"properties\": {\n        \"dtype\": \"number\",\n        \"std\": 0.11287300919853954,\n        \"min\": 0.0,\n        \"max\": 0.5,\n        \"num_unique_values\": 18,\n        \"samples\": [\n          0.1,\n          0.42,\n          0.31\n        ],\n        \"semantic_type\": \"\",\n        \"description\": \"\"\n      }\n    },\n    {\n      \"column\": \"alcohol\",\n      \"properties\": {\n        \"dtype\": \"number\",\n        \"std\": 1.1555160714175927,\n        \"min\": 8.7,\n        \"max\": 12.7,\n        \"num_unique_values\": 21,\n        \"samples\": [\n          9.3,\n          11.2,\n          9.7\n        ],\n        \"semantic_type\": \"\",\n        \"description\": \"\"\n      }\n    }\n  ]\n}"
            }
          },
          "metadata": {},
          "execution_count": 12
        }
      ],
      "source": [
        "from sklearn.cluster import DBSCAN\n",
        "wineDB = pd.read_csv('/content/drive/MyDrive/CS 356/wine2.csv')\n",
        "wineDB"
      ]
    },
    {
      "cell_type": "code",
      "execution_count": 13,
      "id": "64aaf7e1-d57c-490a-ba08-8916ad40ade1",
      "metadata": {
        "colab": {
          "base_uri": "https://localhost:8080/"
        },
        "id": "64aaf7e1-d57c-490a-ba08-8916ad40ade1",
        "outputId": "ee0e6b85-2b74-494e-c759-413561066892"
      },
      "outputs": [
        {
          "output_type": "stream",
          "name": "stdout",
          "text": [
            "[-1 -1 -1 -1 -1 -1 -1 -1 -1 -1 -1 -1 -1 -1 -1 -1 -1 -1 -1 -1 -1 -1 -1 -1\n",
            " -1 -1 -1]\n"
          ]
        }
      ],
      "source": [
        "\n",
        "# Create an input matrix with selected features\n",
        "X_2 = wineDB[['sulphates', 'total_sulfur_dioxide']]\n",
        "\n",
        "scaler = StandardScaler()\n",
        "X_scaled = pd.DataFrame(scaler.fit_transform(X_2))\n",
        "\n",
        "# Cluster using DBSCAN with default options\n",
        "dbModel2 = DBSCAN()\n",
        "\n",
        "dbModel2 = dbModel2.fit(X)\n",
        "\n",
        "print(dbModel2.labels_)"
      ]
    },
    {
      "cell_type": "code",
      "execution_count": 14,
      "id": "7f881cc6-8421-4d57-a525-89d3e851a229",
      "metadata": {
        "colab": {
          "base_uri": "https://localhost:8080/"
        },
        "id": "7f881cc6-8421-4d57-a525-89d3e851a229",
        "outputId": "95215f0d-27ab-44fa-b663-f49f024d38c8"
      },
      "outputs": [
        {
          "output_type": "stream",
          "name": "stdout",
          "text": [
            "[-1 -1 -1 -1 -1 -1 -1 -1 -1 -1 -1 -1 -1 -1 -1 -1 -1 -1 -1 -1 -1 -1 -1 -1\n",
            " -1 -1 -1]\n"
          ]
        }
      ],
      "source": [
        "wineDB = pd.read_csv('/content/drive/MyDrive/CS 356/wine2.csv')\n",
        "\n",
        "# Create an input matrix with selected features\n",
        "X_2 = wineDB[['density', 'alcohol']]\n",
        "\n",
        "scaler = StandardScaler()\n",
        "X_scaled = pd.DataFrame(scaler.fit_transform(X_2))\n",
        "\n",
        "# Cluster using DBSCAN with default options\n",
        "dbModel = DBSCAN()\n",
        "\n",
        "dbModel = dbModel.fit(X)\n",
        "print(dbModel.labels_)"
      ]
    },
    {
      "cell_type": "markdown",
      "id": "7aceb181-cc96-4aba-8e7c-2ebbeaae5d43",
      "metadata": {
        "id": "7aceb181-cc96-4aba-8e7c-2ebbeaae5d43"
      },
      "source": [
        "8. What do the -1's all mean (assuming for the last two input matrices you got all -1's)?\n",
        "9. How can you fix this? (hint try an eps of .69 and min_samples=3) What does this mean?\n",
        "10. Plot one of your results below."
      ]
    },
    {
      "cell_type": "markdown",
      "source": [
        "#8. What do the -1's all mean (assuming for the last two input matrices you got all -1's)?"
      ],
      "metadata": {
        "id": "6CdGkB49GmVB"
      },
      "id": "6CdGkB49GmVB"
    },
    {
      "cell_type": "markdown",
      "source": [
        "A label of -1 represesnts a noise point which are points that don't belong to any cluster according to the set epsilon (max distances between 2 samples to be considered neigbours) and min_samples (number of samples in a neigbourhood for a point to be considered as a core point). All -1s means that the eps is either too small or min_samples is too high so no clusters can form under the given parameters."
      ],
      "metadata": {
        "id": "J4qb-Zg6ilbH"
      },
      "id": "J4qb-Zg6ilbH"
    },
    {
      "cell_type": "markdown",
      "source": [
        "#9.How can you fix this? (hint try an eps of .69 and min_samples=3) What does this mean?"
      ],
      "metadata": {
        "id": "QjhJehRHGpTS"
      },
      "id": "QjhJehRHGpTS"
    },
    {
      "cell_type": "code",
      "source": [
        "\n",
        "# Create an input matrix with selected features\n",
        "X_2 = wineDB[['sulphates', 'total_sulfur_dioxide']]\n",
        "\n",
        "scaler = StandardScaler()\n",
        "X_scaled = pd.DataFrame(scaler.fit_transform(X_2))\n",
        "\n",
        "# Cluster using DBSCAN with default options\n",
        "dbModel2 = DBSCAN(eps=0.69, min_samples=3)\n",
        "\n",
        "dbModel2 = dbModel2.fit(X_scaled)\n",
        "\n",
        "print(dbModel2.labels_)"
      ],
      "metadata": {
        "colab": {
          "base_uri": "https://localhost:8080/"
        },
        "id": "Keq20LeLjQKh",
        "outputId": "f1b60cd5-4152-441b-d076-50c18dcebe42"
      },
      "id": "Keq20LeLjQKh",
      "execution_count": 15,
      "outputs": [
        {
          "output_type": "stream",
          "name": "stdout",
          "text": [
            "[ 0  0  0  0  0  0 -1 -1  0 -1 -1  0  0 -1  0  0  0  0  0  0 -1 -1  0]\n"
          ]
        }
      ]
    },
    {
      "cell_type": "code",
      "source": [
        "import numpy as np\n",
        "def dbscan(X, eps, min_samples):\n",
        "    ss = StandardScaler()\n",
        "    X = ss.fit_transform(X)\n",
        "    db = DBSCAN(eps=eps, min_samples=min_samples)\n",
        "    db.fit(X)\n",
        "    y_pred = db.fit_predict(X)\n",
        "    plt.scatter(X[:,0], X[:,1],c=y_pred, cmap='Paired', label=np.unique(y_pred))\n",
        "    plt.title(\"DBSCAN\")\n",
        "    # Generate a custom legend\n",
        "    unique_labels = np.unique(y_pred)\n",
        "    colors = [plt.cm.Paired(each) for each in np.linspace(0, 1, len(unique_labels))]\n",
        "    custom_legend = [plt.Line2D([0], [0], marker='o', color='w', label='Cluster {}'.format(i),\n",
        "                                markerfacecolor=color, markersize=6) for i, color in zip(unique_labels, colors)]\n",
        "    plt.legend(handles=custom_legend, title=\"Clusters\")\n",
        "\n",
        "    # Add titles and labels (optional)\n",
        "    plt.title(\"DBSCAN Clustering\")\n",
        "    plt.xlabel(\"Sulphates\")\n",
        "    plt.ylabel(\"Total Sulfur Dioxide\")\n",
        "\n",
        "dbscan(X_2, 0.69, 3)"
      ],
      "metadata": {
        "colab": {
          "base_uri": "https://localhost:8080/",
          "height": 472
        },
        "id": "rUV3qAcp_oP8",
        "outputId": "fc099d9e-1b8f-460e-99f3-91973723d03e"
      },
      "id": "rUV3qAcp_oP8",
      "execution_count": 16,
      "outputs": [
        {
          "output_type": "display_data",
          "data": {
            "text/plain": [
              "<Figure size 640x480 with 1 Axes>"
            ],
            "image/png": "[encoded data removed]"
          },
          "metadata": {}
        }
      ]
    },
    {
      "cell_type": "code",
      "source": [
        "wineDB = pd.read_csv('/content/drive/MyDrive/CS 356/wine2.csv')\n",
        "\n",
        "# Create an input matrix with selected features\n",
        "X_2 = wineDB[['density', 'alcohol']]\n",
        "\n",
        "scaler = StandardScaler()\n",
        "X_scaled = pd.DataFrame(scaler.fit_transform(X_2))\n",
        "\n",
        "# Cluster using DBSCAN with default options\n",
        "dbModel = DBSCAN(eps=0.4, min_samples=2)\n",
        "\n",
        "dbModel = dbModel.fit(X_scaled)\n",
        "print(dbModel.labels_)"
      ],
      "metadata": {
        "colab": {
          "base_uri": "https://localhost:8080/"
        },
        "id": "8Wf2Zi3_jQrG",
        "outputId": "0241e3bb-9a83-4c4e-dfee-b2ecfe9af145"
      },
      "id": "8Wf2Zi3_jQrG",
      "execution_count": 19,
      "outputs": [
        {
          "output_type": "stream",
          "name": "stdout",
          "text": [
            "[ 0  1 -1  2  3  1  0  1  3  0  1  0  1  4  0  0  5  0  2  1 -1  5  4]\n"
          ]
        }
      ]
    },
    {
      "cell_type": "code",
      "source": [
        "from sklearn.metrics import silhouette_score\n",
        "from sklearn.cluster import DBSCAN\n",
        "import numpy as np\n",
        "from sklearn.model_selection import ParameterGrid# Finding the best 'eps' and 'min_samples'\n",
        "# Define a range of values for eps and min_samples\n",
        "param_grid = {\n",
        "    'eps': np.arange(0.1, 11.0, 0.1).tolist(),  # Creates a list of floats from 1.0 to 10.0 with a step of 0.1\n",
        "    'min_samples': list(range(2, 51))  # Creates a list of integers from 1 to 50\n",
        "}\n",
        "# Initialize variables to store best parameters and best silhouette score\n",
        "best_params = None\n",
        "best_score = -1\n",
        "\n",
        "# Iterate over all parameter combinations\n",
        "for params in ParameterGrid(param_grid):\n",
        "    # Fit DBSCAN with current parameters\n",
        "    db = DBSCAN(**params).fit(X_scaled)\n",
        "\n",
        "    # Compute silhouette score\n",
        "    labels = db.labels_\n",
        "    if len(set(labels)) > 1:  # Silhouette score requires at least 2 clusters\n",
        "        score = silhouette_score(X_scaled, labels)\n",
        "    else:\n",
        "        score = -1  # Assign a low score if only one cluster is found\n",
        "\n",
        "    # Update best parameters and best score if current score is better\n",
        "    if score > best_score:\n",
        "        best_score = score\n",
        "        best_params = params\n",
        "\n",
        "# Print the best parameters and corresponding silhouette score\n",
        "print(\"Best parameters:\", best_params)\n",
        "print(\"Best silhouette score:\", best_score)"
      ],
      "metadata": {
        "colab": {
          "base_uri": "https://localhost:8080/"
        },
        "id": "RAiGmffomgQy",
        "outputId": "0c710270-bfa1-4f01-93e1-6af1eeda03bc"
      },
      "id": "RAiGmffomgQy",
      "execution_count": 20,
      "outputs": [
        {
          "output_type": "stream",
          "name": "stdout",
          "text": [
            "Best parameters: {'eps': 0.4, 'min_samples': 2}\n",
            "Best silhouette score: 0.5237920390822122\n"
          ]
        }
      ]
    },
    {
      "cell_type": "code",
      "source": [
        "dbModel.labels_\n",
        "X_2['cluster_db'] = dbModel.labels_\n",
        "X_2.sort_values('cluster_db')"
      ],
      "metadata": {
        "colab": {
          "base_uri": "https://localhost:8080/",
          "height": 875
        },
        "id": "74K7NEAhmpa8",
        "outputId": "5a7cb71d-8935-4ec0-e9ae-78985720b2c2"
      },
      "id": "74K7NEAhmpa8",
      "execution_count": 21,
      "outputs": [
        {
          "output_type": "stream",
          "name": "stderr",
          "text": [
            "<ipython-input-21-e7324f687a96>:2: SettingWithCopyWarning: \n",
            "A value is trying to be set on a copy of a slice from a DataFrame.\n",
            "Try using .loc[row_indexer,col_indexer] = value instead\n",
            "\n",
            "See the caveats in the documentation: https://pandas.pydata.org/pandas-docs/stable/user_guide/indexing.html#returning-a-view-versus-a-copy\n",
            "  X_2['cluster_db'] = dbModel.labels_\n"
          ]
        },
        {
          "output_type": "execute_result",
          "data": {
            "text/plain": [
              "    density  alcohol  cluster_db\n",
              "20  0.99610      8.9          -1\n",
              "2   1.00100      8.7          -1\n",
              "0   0.99320      9.3           0\n",
              "17  0.99300      9.7           0\n",
              "15  0.99270      9.4           0\n",
              "14  0.99390      9.9           0\n",
              "9   0.99340      9.5           0\n",
              "11  0.99280      9.8           0\n",
              "6   0.99400      9.8           0\n",
              "10  0.99085     11.1           1\n",
              "12  0.99170     11.3           1\n",
              "5   0.99050     10.9           1\n",
              "19  0.99100     11.2           1\n",
              "1   0.99200     11.0           1\n",
              "7   0.99170     11.4           1\n",
              "3   0.99270     10.3           2\n",
              "18  0.99270     10.6           2\n",
              "8   0.98980     12.4           3\n",
              "4   0.98980     12.7           3\n",
              "13  0.99715      9.3           4\n",
              "22  0.99690      9.2           4\n",
              "21  0.99390     11.7           5\n",
              "16  0.99350     12.0           5"
            ],
            "text/html": [
              "\n",
              "  <div id=\"df-111d5f45-f3b6-4d1c-857a-d79620fdb987\" class=\"colab-df-container\">\n",
              "    <div>\n",
              "<style scoped>\n",
              "    .dataframe tbody tr th:only-of-type {\n",
              "        vertical-align: middle;\n",
              "    }\n",
              "\n",
              "    .dataframe tbody tr th {\n",
              "        vertical-align: top;\n",
              "    }\n",
              "\n",
              "    .dataframe thead th {\n",
              "        text-align: right;\n",
              "    }\n",
              "</style>\n",
              "<table border=\"1\" class=\"dataframe\">\n",
              "  <thead>\n",
              "    <tr style=\"text-align: right;\">\n",
              "      <th></th>\n",
              "      <th>density</th>\n",
              "      <th>alcohol</th>\n",
              "      <th>cluster_db</th>\n",
              "    </tr>\n",
              "  </thead>\n",
              "  <tbody>\n",
              "    <tr>\n",
              "      <th>20</th>\n",
              "      <td>0.99610</td>\n",
              "      <td>8.9</td>\n",
              "      <td>-1</td>\n",
              "    </tr>\n",
              "    <tr>\n",
              "      <th>2</th>\n",
              "      <td>1.00100</td>\n",
              "      <td>8.7</td>\n",
              "      <td>-1</td>\n",
              "    </tr>\n",
              "    <tr>\n",
              "      <th>0</th>\n",
              "      <td>0.99320</td>\n",
              "      <td>9.3</td>\n",
              "      <td>0</td>\n",
              "    </tr>\n",
              "    <tr>\n",
              "      <th>17</th>\n",
              "      <td>0.99300</td>\n",
              "      <td>9.7</td>\n",
              "      <td>0</td>\n",
              "    </tr>\n",
              "    <tr>\n",
              "      <th>15</th>\n",
              "      <td>0.99270</td>\n",
              "      <td>9.4</td>\n",
              "      <td>0</td>\n",
              "    </tr>\n",
              "    <tr>\n",
              "      <th>14</th>\n",
              "      <td>0.99390</td>\n",
              "      <td>9.9</td>\n",
              "      <td>0</td>\n",
              "    </tr>\n",
              "    <tr>\n",
              "      <th>9</th>\n",
              "      <td>0.99340</td>\n",
              "      <td>9.5</td>\n",
              "      <td>0</td>\n",
              "    </tr>\n",
              "    <tr>\n",
              "      <th>11</th>\n",
              "      <td>0.99280</td>\n",
              "      <td>9.8</td>\n",
              "      <td>0</td>\n",
              "    </tr>\n",
              "    <tr>\n",
              "      <th>6</th>\n",
              "      <td>0.99400</td>\n",
              "      <td>9.8</td>\n",
              "      <td>0</td>\n",
              "    </tr>\n",
              "    <tr>\n",
              "      <th>10</th>\n",
              "      <td>0.99085</td>\n",
              "      <td>11.1</td>\n",
              "      <td>1</td>\n",
              "    </tr>\n",
              "    <tr>\n",
              "      <th>12</th>\n",
              "      <td>0.99170</td>\n",
              "      <td>11.3</td>\n",
              "      <td>1</td>\n",
              "    </tr>\n",
              "    <tr>\n",
              "      <th>5</th>\n",
              "      <td>0.99050</td>\n",
              "      <td>10.9</td>\n",
              "      <td>1</td>\n",
              "    </tr>\n",
              "    <tr>\n",
              "      <th>19</th>\n",
              "      <td>0.99100</td>\n",
              "      <td>11.2</td>\n",
              "      <td>1</td>\n",
              "    </tr>\n",
              "    <tr>\n",
              "      <th>1</th>\n",
              "      <td>0.99200</td>\n",
              "      <td>11.0</td>\n",
              "      <td>1</td>\n",
              "    </tr>\n",
              "    <tr>\n",
              "      <th>7</th>\n",
              "      <td>0.99170</td>\n",
              "      <td>11.4</td>\n",
              "      <td>1</td>\n",
              "    </tr>\n",
              "    <tr>\n",
              "      <th>3</th>\n",
              "      <td>0.99270</td>\n",
              "      <td>10.3</td>\n",
              "      <td>2</td>\n",
              "    </tr>\n",
              "    <tr>\n",
              "      <th>18</th>\n",
              "      <td>0.99270</td>\n",
              "      <td>10.6</td>\n",
              "      <td>2</td>\n",
              "    </tr>\n",
              "    <tr>\n",
              "      <th>8</th>\n",
              "      <td>0.98980</td>\n",
              "      <td>12.4</td>\n",
              "      <td>3</td>\n",
              "    </tr>\n",
              "    <tr>\n",
              "      <th>4</th>\n",
              "      <td>0.98980</td>\n",
              "      <td>12.7</td>\n",
              "      <td>3</td>\n",
              "    </tr>\n",
              "    <tr>\n",
              "      <th>13</th>\n",
              "      <td>0.99715</td>\n",
              "      <td>9.3</td>\n",
              "      <td>4</td>\n",
              "    </tr>\n",
              "    <tr>\n",
              "      <th>22</th>\n",
              "      <td>0.99690</td>\n",
              "      <td>9.2</td>\n",
              "      <td>4</td>\n",
              "    </tr>\n",
              "    <tr>\n",
              "      <th>21</th>\n",
              "      <td>0.99390</td>\n",
              "      <td>11.7</td>\n",
              "      <td>5</td>\n",
              "    </tr>\n",
              "    <tr>\n",
              "      <th>16</th>\n",
              "      <td>0.99350</td>\n",
              "      <td>12.0</td>\n",
              "      <td>5</td>\n",
              "    </tr>\n",
              "  </tbody>\n",
              "</table>\n",
              "</div>\n",
              "    <div class=\"colab-df-buttons\">\n",
              "\n",
              "  <div class=\"colab-df-container\">\n",
              "    <button class=\"colab-df-convert\" onclick=\"convertToInteractive('df-111d5f45-f3b6-4d1c-857a-d79620fdb987')\"\n",
              "            title=\"Convert this dataframe to an interactive table.\"\n",
              "            style=\"display:none;\">\n",
              "\n",
              "  <svg xmlns=\"http://www.w3.org/2000/svg\" height=\"24px\" viewBox=\"0 -960 960 960\">\n",
              "    <path d=\"M120-120v-720h720v720H120Zm60-500h600v-160H180v160Zm220 220h160v-160H400v160Zm0 220h160v-160H400v160ZM180-400h160v-160H180v160Zm440 0h160v-160H620v160ZM180-180h160v-160H180v160Zm440 0h160v-160H620v160Z\"/>\n",
              "  </svg>\n",
              "    </button>\n",
              "\n",
              "  <style>\n",
              "    .colab-df-container {\n",
              "      display:flex;\n",
              "      gap: 12px;\n",
              "    }\n",
              "\n",
              "    .colab-df-convert {\n",
              "      background-color: #E8F0FE;\n",
              "      border: none;\n",
              "      border-radius: 50%;\n",
              "      cursor: pointer;\n",
              "      display: none;\n",
              "      fill: #1967D2;\n",
              "      height: 32px;\n",
              "      padding: 0 0 0 0;\n",
              "      width: 32px;\n",
              "    }\n",
              "\n",
              "    .colab-df-convert:hover {\n",
              "      background-color: #E2EBFA;\n",
              "      box-shadow: 0px 1px 2px rgba(60, 64, 67, 0.3), 0px 1px 3px 1px rgba(60, 64, 67, 0.15);\n",
              "      fill: #174EA6;\n",
              "    }\n",
              "\n",
              "    .colab-df-buttons div {\n",
              "      margin-bottom: 4px;\n",
              "    }\n",
              "\n",
              "    [theme=dark] .colab-df-convert {\n",
              "      background-color: #3B4455;\n",
              "      fill: #D2E3FC;\n",
              "    }\n",
              "\n",
              "    [theme=dark] .colab-df-convert:hover {\n",
              "      background-color: #434B5C;\n",
              "      box-shadow: 0px 1px 3px 1px rgba(0, 0, 0, 0.15);\n",
              "      filter: drop-shadow(0px 1px 2px rgba(0, 0, 0, 0.3));\n",
              "      fill: #FFFFFF;\n",
              "    }\n",
              "  </style>\n",
              "\n",
              "    <script>\n",
              "      const buttonEl =\n",
              "        document.querySelector('#df-111d5f45-f3b6-4d1c-857a-d79620fdb987 button.colab-df-convert');\n",
              "      buttonEl.style.display =\n",
              "        google.colab.kernel.accessAllowed ? 'block' : 'none';\n",
              "\n",
              "      async function convertToInteractive(key) {\n",
              "        const element = document.querySelector('#df-111d5f45-f3b6-4d1c-857a-d79620fdb987');\n",
              "        const dataTable =\n",
              "          await google.colab.kernel.invokeFunction('convertToInteractive',\n",
              "                                                    [key], {});\n",
              "        if (!dataTable) return;\n",
              "\n",
              "        const docLinkHtml = 'Like what you see? Visit the ' +\n",
              "          '<a target=\"_blank\" href=https://colab.research.google.com/notebooks/data_table.ipynb>data table notebook</a>'\n",
              "          + ' to learn more about interactive tables.';\n",
              "        element.innerHTML = '';\n",
              "        dataTable['output_type'] = 'display_data';\n",
              "        await google.colab.output.renderOutput(dataTable, element);\n",
              "        const docLink = document.createElement('div');\n",
              "        docLink.innerHTML = docLinkHtml;\n",
              "        element.appendChild(docLink);\n",
              "      }\n",
              "    </script>\n",
              "  </div>\n",
              "\n",
              "\n",
              "<div id=\"df-647592bb-be5c-489e-a2be-b43652f1ae33\">\n",
              "  <button class=\"colab-df-quickchart\" onclick=\"quickchart('df-647592bb-be5c-489e-a2be-b43652f1ae33')\"\n",
              "            title=\"Suggest charts\"\n",
              "            style=\"display:none;\">\n",
              "\n",
              "<svg xmlns=\"http://www.w3.org/2000/svg\" height=\"24px\"viewBox=\"0 0 24 24\"\n",
              "     width=\"24px\">\n",
              "    <g>\n",
              "        <path d=\"M19 3H5c-1.1 0-2 .9-2 2v14c0 1.1.9 2 2 2h14c1.1 0 2-.9 2-2V5c0-1.1-.9-2-2-2zM9 17H7v-7h2v7zm4 0h-2V7h2v10zm4 0h-2v-4h2v4z\"/>\n",
              "    </g>\n",
              "</svg>\n",
              "  </button>\n",
              "\n",
              "<style>\n",
              "  .colab-df-quickchart {\n",
              "      --bg-color: #E8F0FE;\n",
              "      --fill-color: #1967D2;\n",
              "      --hover-bg-color: #E2EBFA;\n",
              "      --hover-fill-color: #174EA6;\n",
              "      --disabled-fill-color: #AAA;\n",
              "      --disabled-bg-color: #DDD;\n",
              "  }\n",
              "\n",
              "  [theme=dark] .colab-df-quickchart {\n",
              "      --bg-color: #3B4455;\n",
              "      --fill-color: #D2E3FC;\n",
              "      --hover-bg-color: #434B5C;\n",
              "      --hover-fill-color: #FFFFFF;\n",
              "      --disabled-bg-color: #3B4455;\n",
              "      --disabled-fill-color: #666;\n",
              "  }\n",
              "\n",
              "  .colab-df-quickchart {\n",
              "    background-color: var(--bg-color);\n",
              "    border: none;\n",
              "    border-radius: 50%;\n",
              "    cursor: pointer;\n",
              "    display: none;\n",
              "    fill: var(--fill-color);\n",
              "    height: 32px;\n",
              "    padding: 0;\n",
              "    width: 32px;\n",
              "  }\n",
              "\n",
              "  .colab-df-quickchart:hover {\n",
              "    background-color: var(--hover-bg-color);\n",
              "    box-shadow: 0 1px 2px rgba(60, 64, 67, 0.3), 0 1px 3px 1px rgba(60, 64, 67, 0.15);\n",
              "    fill: var(--button-hover-fill-color);\n",
              "  }\n",
              "\n",
              "  .colab-df-quickchart-complete:disabled,\n",
              "  .colab-df-quickchart-complete:disabled:hover {\n",
              "    background-color: var(--disabled-bg-color);\n",
              "    fill: var(--disabled-fill-color);\n",
              "    box-shadow: none;\n",
              "  }\n",
              "\n",
              "  .colab-df-spinner {\n",
              "    border: 2px solid var(--fill-color);\n",
              "    border-color: transparent;\n",
              "    border-bottom-color: var(--fill-color);\n",
              "    animation:\n",
              "      spin 1s steps(1) infinite;\n",
              "  }\n",
              "\n",
              "  @keyframes spin {\n",
              "    0% {\n",
              "      border-color: transparent;\n",
              "      border-bottom-color: var(--fill-color);\n",
              "      border-left-color: var(--fill-color);\n",
              "    }\n",
              "    20% {\n",
              "      border-color: transparent;\n",
              "      border-left-color: var(--fill-color);\n",
              "      border-top-color: var(--fill-color);\n",
              "    }\n",
              "    30% {\n",
              "      border-color: transparent;\n",
              "      border-left-color: var(--fill-color);\n",
              "      border-top-color: var(--fill-color);\n",
              "      border-right-color: var(--fill-color);\n",
              "    }\n",
              "    40% {\n",
              "      border-color: transparent;\n",
              "      border-right-color: var(--fill-color);\n",
              "      border-top-color: var(--fill-color);\n",
              "    }\n",
              "    60% {\n",
              "      border-color: transparent;\n",
              "      border-right-color: var(--fill-color);\n",
              "    }\n",
              "    80% {\n",
              "      border-color: transparent;\n",
              "      border-right-color: var(--fill-color);\n",
              "      border-bottom-color: var(--fill-color);\n",
              "    }\n",
              "    90% {\n",
              "      border-color: transparent;\n",
              "      border-bottom-color: var(--fill-color);\n",
              "    }\n",
              "  }\n",
              "</style>\n",
              "\n",
              "  <script>\n",
              "    async function quickchart(key) {\n",
              "      const quickchartButtonEl =\n",
              "        document.querySelector('#' + key + ' button');\n",
              "      quickchartButtonEl.disabled = true;  // To prevent multiple clicks.\n",
              "      quickchartButtonEl.classList.add('colab-df-spinner');\n",
              "      try {\n",
              "        const charts = await google.colab.kernel.invokeFunction(\n",
              "            'suggestCharts', [key], {});\n",
              "      } catch (error) {\n",
              "        console.error('Error during call to suggestCharts:', error);\n",
              "      }\n",
              "      quickchartButtonEl.classList.remove('colab-df-spinner');\n",
              "      quickchartButtonEl.classList.add('colab-df-quickchart-complete');\n",
              "    }\n",
              "    (() => {\n",
              "      let quickchartButtonEl =\n",
              "        document.querySelector('#df-647592bb-be5c-489e-a2be-b43652f1ae33 button');\n",
              "      quickchartButtonEl.style.display =\n",
              "        google.colab.kernel.accessAllowed ? 'block' : 'none';\n",
              "    })();\n",
              "  </script>\n",
              "</div>\n",
              "    </div>\n",
              "  </div>\n"
            ],
            "application/vnd.google.colaboratory.intrinsic+json": {
              "type": "dataframe",
              "summary": "{\n  \"name\": \"X_2\",\n  \"rows\": 23,\n  \"fields\": [\n    {\n      \"column\": \"density\",\n      \"properties\": {\n        \"dtype\": \"number\",\n        \"std\": 0.0025931176011281323,\n        \"min\": 0.9898,\n        \"max\": 1.001,\n        \"num_unique_values\": 18,\n        \"samples\": [\n          0.9961,\n          1.001,\n          0.994\n        ],\n        \"semantic_type\": \"\",\n        \"description\": \"\"\n      }\n    },\n    {\n      \"column\": \"alcohol\",\n      \"properties\": {\n        \"dtype\": \"number\",\n        \"std\": 1.155516071417593,\n        \"min\": 8.7,\n        \"max\": 12.7,\n        \"num_unique_values\": 21,\n        \"samples\": [\n          8.9,\n          12.7,\n          10.6\n        ],\n        \"semantic_type\": \"\",\n        \"description\": \"\"\n      }\n    },\n    {\n      \"column\": \"cluster_db\",\n      \"properties\": {\n        \"dtype\": \"number\",\n        \"std\": 1,\n        \"min\": -1,\n        \"max\": 5,\n        \"num_unique_values\": 7,\n        \"samples\": [\n          -1,\n          0,\n          4\n        ],\n        \"semantic_type\": \"\",\n        \"description\": \"\"\n      }\n    }\n  ]\n}"
            }
          },
          "metadata": {},
          "execution_count": 21
        }
      ]
    },
    {
      "cell_type": "markdown",
      "source": [
        "#9. Plot one of your results below."
      ],
      "metadata": {
        "id": "k_S1eA2MGs8E"
      },
      "id": "k_S1eA2MGs8E"
    },
    {
      "cell_type": "code",
      "source": [
        "\n",
        "import numpy as np\n",
        "def dbscan(X, eps, min_samples):\n",
        "    ss = StandardScaler()\n",
        "    X = ss.fit_transform(X)\n",
        "    db = DBSCAN(eps=eps, min_samples=min_samples)\n",
        "    db.fit(X)\n",
        "    y_pred = db.fit_predict(X)\n",
        "    plt.scatter(X[:,0], X[:,1],c=y_pred, cmap='Paired', label=np.unique(y_pred))\n",
        "    plt.title(\"DBSCAN\")\n",
        "    # Generate a custom legend\n",
        "    unique_labels = np.unique(y_pred)\n",
        "    colors = [plt.cm.Paired(each) for each in np.linspace(0, 1, len(unique_labels))]\n",
        "    custom_legend = [plt.Line2D([0], [0], marker='o', color='w', label='Cluster {}'.format(i),\n",
        "                                markerfacecolor=color, markersize=6) for i, color in zip(unique_labels, colors)]\n",
        "    plt.legend(handles=custom_legend, title=\"Clusters\")\n",
        "\n",
        "    # Add titles and labels (optional)\n",
        "    plt.title(\"DBSCAN Clustering\")\n",
        "    plt.xlabel(\"density\")\n",
        "    plt.ylabel(\"alcohol\")\n",
        "\n",
        "dbscan(X_2, 0.69, 3)"
      ],
      "metadata": {
        "colab": {
          "base_uri": "https://localhost:8080/",
          "height": 472
        },
        "id": "JtETX3yulTyS",
        "outputId": "461b7d83-a980-42cd-b7d8-18bface2fae2"
      },
      "id": "JtETX3yulTyS",
      "execution_count": 29,
      "outputs": [
        {
          "output_type": "display_data",
          "data": {
            "text/plain": [
              "<Figure size 640x480 with 1 Axes>"
            ],
            "image/png": "[encoded data removed]"
          },
          "metadata": {}
        }
      ]
    },
    {
      "cell_type": "markdown",
      "source": [
        "#try clustering with other values."
      ],
      "metadata": {
        "id": "0eojL1L3DFrX"
      },
      "id": "0eojL1L3DFrX"
    },
    {
      "cell_type": "code",
      "source": [
        "dbscan(X_2, 0.4, 2)"
      ],
      "metadata": {
        "colab": {
          "base_uri": "https://localhost:8080/",
          "height": 472
        },
        "id": "yPkZMZ5EC1Za",
        "outputId": "3a3f2608-bee3-47d5-9757-bf80607fd4cd"
      },
      "id": "yPkZMZ5EC1Za",
      "execution_count": 26,
      "outputs": [
        {
          "output_type": "display_data",
          "data": {
            "text/plain": [
              "<Figure size 640x480 with 1 Axes>"
            ],
            "image/png": "[encoded data removed]"
          },
          "metadata": {}
        }
      ]
    },
    {
      "cell_type": "code",
      "execution_count": 25,
      "id": "ed8829bc-1b7b-4c9f-8a22-d0f3ce6fb1c3",
      "metadata": {
        "colab": {
          "base_uri": "https://localhost:8080/"
        },
        "id": "ed8829bc-1b7b-4c9f-8a22-d0f3ce6fb1c3",
        "outputId": "24d102c8-1478-4378-9553-5ccd82195c8a"
      },
      "outputs": [
        {
          "output_type": "stream",
          "name": "stdout",
          "text": [
            "Requirement already satisfied: tpot in /usr/local/lib/python3.10/dist-packages (0.12.2)\n",
            "Requirement already satisfied: numpy>=1.16.3 in /usr/local/lib/python3.10/dist-packages (from tpot) (1.26.4)\n",
            "Requirement already satisfied: scipy>=1.3.1 in /usr/local/lib/python3.10/dist-packages (from tpot) (1.13.1)\n",
            "Requirement already satisfied: scikit-learn>=1.4.1 in /usr/local/lib/python3.10/dist-packages (from tpot) (1.5.0)\n",
            "Requirement already satisfied: deap>=1.2 in /usr/local/lib/python3.10/dist-packages (from tpot) (1.4.1)\n",
            "Requirement already satisfied: update-checker>=0.16 in /usr/local/lib/python3.10/dist-packages (from tpot) (0.18.0)\n",
            "Requirement already satisfied: tqdm>=4.36.1 in /usr/local/lib/python3.10/dist-packages (from tpot) (4.66.4)\n",
            "Requirement already satisfied: stopit>=1.1.1 in /usr/local/lib/python3.10/dist-packages (from tpot) (1.1.2)\n",
            "Requirement already satisfied: pandas>=0.24.2 in /usr/local/lib/python3.10/dist-packages (from tpot) (2.2.2)\n",
            "Requirement already satisfied: joblib>=0.13.2 in /usr/local/lib/python3.10/dist-packages (from tpot) (1.4.2)\n",
            "Requirement already satisfied: xgboost>=1.1.0 in /usr/local/lib/python3.10/dist-packages (from tpot) (2.0.3)\n",
            "Requirement already satisfied: python-dateutil>=2.8.2 in /usr/local/lib/python3.10/dist-packages (from pandas>=0.24.2->tpot) (2.9.0.post0)\n",
            "Requirement already satisfied: pytz>=2020.1 in /usr/local/lib/python3.10/dist-packages (from pandas>=0.24.2->tpot) (2024.1)\n",
            "Requirement already satisfied: tzdata>=2022.7 in /usr/local/lib/python3.10/dist-packages (from pandas>=0.24.2->tpot) (2024.1)\n",
            "Requirement already satisfied: threadpoolctl>=3.1.0 in /usr/local/lib/python3.10/dist-packages (from scikit-learn>=1.4.1->tpot) (3.5.0)\n",
            "Requirement already satisfied: requests>=2.3.0 in /usr/local/lib/python3.10/dist-packages (from update-checker>=0.16->tpot) (2.32.2)\n",
            "Requirement already satisfied: six>=1.5 in /usr/local/lib/python3.10/dist-packages (from python-dateutil>=2.8.2->pandas>=0.24.2->tpot) (1.16.0)\n",
            "Requirement already satisfied: charset-normalizer<4,>=2 in /usr/local/lib/python3.10/dist-packages (from requests>=2.3.0->update-checker>=0.16->tpot) (3.3.2)\n",
            "Requirement already satisfied: idna<4,>=2.5 in /usr/local/lib/python3.10/dist-packages (from requests>=2.3.0->update-checker>=0.16->tpot) (3.7)\n",
            "Requirement already satisfied: urllib3<3,>=1.21.1 in /usr/local/lib/python3.10/dist-packages (from requests>=2.3.0->update-checker>=0.16->tpot) (2.2.1)\n",
            "Requirement already satisfied: certifi>=2017.4.17 in /usr/local/lib/python3.10/dist-packages (from requests>=2.3.0->update-checker>=0.16->tpot) (2024.2.2)\n"
          ]
        }
      ],
      "source": [
        "!pip install tpot"
      ]
    },
    {
      "cell_type": "code",
      "source": [
        "!pip install --upgrade --force-reinstall scikit-learn tpot\n"
      ],
      "metadata": {
        "id": "u0xcPPXxL63i"
      },
      "id": "u0xcPPXxL63i",
      "execution_count": null,
      "outputs": []
    },
    {
      "cell_type": "code",
      "execution_count": 30,
      "id": "71c54230-5bfe-4135-9320-3018942afe9c",
      "metadata": {
        "id": "71c54230-5bfe-4135-9320-3018942afe9c",
        "colab": {
          "base_uri": "https://localhost:8080/",
          "height": 243,
          "referenced_widgets": [
            "1b3ed4429374453f9d93494c0dff6604",
            "07a18d9c1fc340ec95e2fbb0d28f2596",
            "5da413fb4b8a47888f73df2e42fc5799",
            "432b078966764a1a8c2c8429015c6a1e",
            "5c774753e8bf45acb13a57b96fe0e4ce",
            "7ad7d5fc9ca74ee38151eead4d020f3e",
            "b7901dd662374a43b16f7a5a70844bf0",
            "5182e32737c943e89a0d62c1a55dd084",
            "d59e4f1b5cd24bb1bf5b2c0ba0d257be",
            "3b27c696508f42248f4b96df9e245896",
            "7fe7b7282b0d4819b24a7b068e62f281"
          ]
        },
        "outputId": "0546f70a-c84d-4e0a-c777-8a86bcebd910"
      },
      "outputs": [
        {
          "output_type": "display_data",
          "data": {
            "text/plain": [
              "Optimization Progress:   0%|          | 0/120 [00:00<?, ?pipeline/s]"
            ],
            "application/vnd.jupyter.widget-view+json": {
              "version_major": 2,
              "version_minor": 0,
              "model_id": "1b3ed4429374453f9d93494c0dff6604"
            }
          },
          "metadata": {}
        },
        {
          "output_type": "stream",
          "name": "stdout",
          "text": [
            "\n",
            "Generation 1 - Current best internal CV score: 0.9833333333333334\n",
            "\n",
            "Generation 2 - Current best internal CV score: 0.9833333333333334\n",
            "\n",
            "Generation 3 - Current best internal CV score: 0.9833333333333334\n",
            "\n",
            "Generation 4 - Current best internal CV score: 0.9833333333333334\n",
            "\n",
            "Generation 5 - Current best internal CV score: 0.9833333333333334\n",
            "\n",
            "Best pipeline: LogisticRegression(MultinomialNB(input_matrix, alpha=10.0, fit_prior=False), C=25.0, dual=False, penalty=l2)\n",
            "Test set accuracy: 1.0\n"
          ]
        }
      ],
      "source": [
        "from tpot import TPOTClassifier\n",
        "from sklearn.datasets import load_iris\n",
        "from sklearn.model_selection import train_test_split\n",
        "\n",
        "# Load the Iris dataset\n",
        "iris = load_iris()\n",
        "X_train, X_test, y_train, y_test = train_test_split(iris.data, iris.target, test_size=0.2, random_state=42)\n",
        "\n",
        "# Define TPOT search parameters\n",
        "tpot = TPOTClassifier(generations=5, population_size=20, verbosity=2, random_state=42)\n",
        "\n",
        "# Fit TPOT to find the best pipeline\n",
        "tpot.fit(X_train, y_train)\n",
        "\n",
        "# Evaluate the best pipeline on the test set\n",
        "accuracy = tpot.score(X_test, y_test)\n",
        "print(\"Test set accuracy:\", accuracy)\n",
        "\n",
        "\n",
        "# Export the final pipeline code\n",
        "tpot.export('tpot_iris_pipeline.py')\n"
      ]
    },
    {
      "cell_type": "code",
      "source": [
        "from sklearn.naive_bayes import MultinomialNB\n",
        "from sklearn.linear_model import LogisticRegression\n",
        "from sklearn.pipeline import make_pipeline\n",
        "from sklearn.preprocessing import MinMaxScaler\n",
        "from sklearn.datasets import load_iris\n",
        "from sklearn.model_selection import train_test_split\n",
        "from sklearn.datasets import load_iris\n",
        "from sklearn.base import TransformerMixin, BaseEstimator\n",
        "\n",
        "# Load the Iris dataset\n",
        "iris = load_iris()\n",
        "X_train, X_test, y_train, y_test = train_test_split(iris.data, iris.target, test_size=0.2, random_state=42)\n",
        "\n",
        "# Since naive Bayes requires non-negative inputs, ensure all features are non-negative:\n",
        "scaler = MinMaxScaler()\n",
        "X_train_scaled = scaler.fit_transform(X_train)\n",
        "X_test_scaled = scaler.transform(X_test)\n",
        "\n",
        "# Define a custom transformer to use NB predictions as features\n",
        "class NBTransformer(BaseEstimator, TransformerMixin):\n",
        "    def __init__(self, alpha=10.0, fit_prior=False):\n",
        "        self.nb = MultinomialNB(alpha=alpha, fit_prior=fit_prior)\n",
        "\n",
        "    def fit(self, X, y):\n",
        "        self.nb.fit(X, y)\n",
        "        return self\n",
        "\n",
        "    def transform(self, X):\n",
        "        # Return the probability estimates for each class\n",
        "        return self.nb.predict_proba(X)\n",
        "\n",
        "# Set up the pipeline\n",
        "nb_transformer = NBTransformer(alpha=10.0, fit_prior=False)\n",
        "logreg = LogisticRegression(C=25.0, dual=False, penalty='l2', random_state=42)\n",
        "\n",
        "pipeline = make_pipeline(nb_transformer, logreg)\n",
        "\n",
        "# Fit the pipeline\n",
        "pipeline.fit(X_train_scaled, y_train)\n",
        "\n",
        "# Evaluate the pipeline\n",
        "accuracy = pipeline.score(X_test_scaled, y_test)\n",
        "print(\"Test set accuracy:\", accuracy)"
      ],
      "metadata": {
        "colab": {
          "base_uri": "https://localhost:8080/"
        },
        "id": "ZdpbX7rl_Ue2",
        "outputId": "cbd2c54b-0e0a-4e78-d432-92d7e800aa29"
      },
      "id": "ZdpbX7rl_Ue2",
      "execution_count": 31,
      "outputs": [
        {
          "output_type": "stream",
          "name": "stdout",
          "text": [
            "Test set accuracy: 0.9333333333333333\n"
          ]
        }
      ]
    },
    {
      "cell_type": "markdown",
      "id": "28dfb465-1af5-4e8f-8cde-dd7136852790",
      "metadata": {
        "id": "28dfb465-1af5-4e8f-8cde-dd7136852790"
      },
      "source": [
        "11. Go to http://epistasislab.github.io/tpot/ , read about this tool\n",
        "12. What is TPOT good for? What is it not good for?\n",
        "13. Which algorithms does TPOT check?\n",
        "14. In the code above, what do the parameters mean? # Do NOT be so simplistic with your metrics, this is a code sample above.\n",
        "15. In a new notebook, do:\n",
        "    -- DBSCAN on aspect of your data and visualize\n",
        "    - TPOT on an aspect of your final project, and implement its suggestion plus report on your results\n",
        "    - Dendrogram that is readable and legible (you can take representative samples from your data)\n",
        "    - Spelling counts from now on! (too many misspelled words in your notebooks)"
      ]
    },
    {
      "cell_type": "markdown",
      "source": [
        "#11. Go to http://epistasislab.github.io/tpot/ , read about this tool"
      ],
      "metadata": {
        "id": "LiDthoqfHIqP"
      },
      "id": "LiDthoqfHIqP"
    },
    {
      "cell_type": "markdown",
      "source": [
        "#12.What is TPOT good for? What is it not good for?"
      ],
      "metadata": {
        "id": "2diJKaDaHJ1C"
      },
      "id": "2diJKaDaHJ1C"
    },
    {
      "cell_type": "markdown",
      "source": [
        "TPOT is good for automating the process of slecting ML algorithims and their parameters. It useful for when you dont know what model will perform best for the given problem. However, it can overfit the model and it lacks domain knowledge so that cant be integrated. For simple problems, it would probably be better to use the known solutions for effeciency.  "
      ],
      "metadata": {
        "id": "PA7-MwQB8U3G"
      },
      "id": "PA7-MwQB8U3G"
    },
    {
      "cell_type": "markdown",
      "source": [
        "#13. Which algorithms does TPOT check?"
      ],
      "metadata": {
        "id": "bvBA5fHvHLGW"
      },
      "id": "bvBA5fHvHLGW"
    },
    {
      "cell_type": "markdown",
      "source": [
        "For classifiers: GaussianNB, BernoulliNB, MultinomialNB, DecisionTreeClassifier, ExtraTreesClassifier, RandomForestClassifier, GradientBoostingClassifier, KNeighborsClassifier, LinearSVC, LogisticRegression, XGBClassifier, SGDClassifier, MLPClassifier\n",
        "Regressors: ElasticNetCV, ExtraTreesRegressor,GradientBoostingRegressor, AdaBoostRegressor,DecisionTreeRegressor,KNeighborsRegressor,LassoLarsCV, LinearSVR, RandomForestRegressor,RidgeCV,XGBRegressor, SGDRegressor\n",
        "Preprocesser: Binarizer,  FastICA, FeatureAgglomeration,MaxAbsScaler, MinMaxScaler, Nystroem, PCA, PolynomialFeatures, RBFSampler, RobustScaler, StandardScaler, ZeroCount, OneHotEncoder\n",
        "Selectors: SelectFwe, SelectPercentile, VarianceThreshold, RFE,SelectFromModel\n"
      ],
      "metadata": {
        "id": "d3zA1BAXBpYN"
      },
      "id": "d3zA1BAXBpYN"
    },
    {
      "cell_type": "markdown",
      "source": [
        "#14.In the code above, what do the parameters mean? # Do NOT be so simplistic with your metrics, this is a code sample above"
      ],
      "metadata": {
        "id": "o2Enjm2SHPCO"
      },
      "id": "o2Enjm2SHPCO"
    },
    {
      "cell_type": "markdown",
      "source": [
        "In the code above:\n",
        "\n",
        "TPOTClassifier(generations=5, population_size=20, verbosity=2, random_state=42)\n",
        "- Generations: the number of iterations to run the pipeline optimization process\n",
        "- population_size: the number of individual piplines in each generation\n",
        "- verbosity: the amount of info the TPOT prints out - 2 means it prints all the info and the progress bar during fitting. (levels ranfe from 0 (silent) to 3(very detailed)\n",
        "- random_state: stes a seed for the random number generator to make the output reproducable\n",
        "\n",
        "tpot.fit(X_train, y_train)\n",
        "- Fits TPOT to the training data\n",
        "- initialization (preprocessing and ML) -> Evaluation -> selection -> crossover -> mutation -> new generation -> termination -> best pipeline selection\n",
        "\n",
        "tpot.score(X_test, y_test)\n",
        "- evaluates the performance of the best model found on the test dataset\n",
        "- The default is the accuracy of the model\n",
        "\n",
        "tpot.export('tpot_iris_pipeline.py')\n",
        "- Exports the python code for the best pipline found by TPOT\n",
        "\n"
      ],
      "metadata": {
        "id": "7TFgLX4k6Cmw"
      },
      "id": "7TFgLX4k6Cmw"
    },
    {
      "cell_type": "markdown",
      "source": [
        "#15. In a new notebook, do: -- DBSCAN on aspect of your data and visualize TPOT on an aspect of your final project, and implement its suggestion plus report on your results Dendrogram that is readable and legible (you can take representative samples from your data) Spelling counts from now on! (too many misspelled words in your notebooks)\n"
      ],
      "metadata": {
        "id": "wHBwJmyXHROJ"
      },
      "id": "wHBwJmyXHROJ"
    },
    {
      "cell_type": "code",
      "execution_count": null,
      "id": "ad5df5f5-1f0d-46ee-a9d6-582f757120b4",
      "metadata": {
        "id": "ad5df5f5-1f0d-46ee-a9d6-582f757120b4"
      },
      "outputs": [],
      "source": []
    }
  ],
  "metadata": {
    "kernelspec": {
      "display_name": "Python 3 (ipykernel)",
      "language": "python",
      "name": "python3"
    },
    "language_info": {
      "codemirror_mode": {
        "name": "ipython",
        "version": 3
      },
      "file_extension": ".py",
      "mimetype": "text/x-python",
      "name": "python",
      "nbconvert_exporter": "python",
      "pygments_lexer": "ipython3",
      "version": "3.10.11"
    },
    "colab": {
      "provenance": []
    },
    "widgets": {
      "application/vnd.jupyter.widget-state+json": {
        "1b3ed4429374453f9d93494c0dff6604": {
          "model_module": "@jupyter-widgets/controls",
          "model_name": "HBoxModel",
          "model_module_version": "1.5.0",
          "state": {
            "_dom_classes": [],
            "_model_module": "@jupyter-widgets/controls",
            "_model_module_version": "1.5.0",
            "_model_name": "HBoxModel",
            "_view_count": null,
            "_view_module": "@jupyter-widgets/controls",
            "_view_module_version": "1.5.0",
            "_view_name": "HBoxView",
            "box_style": "",
            "children": [
              "IPY_MODEL_07a18d9c1fc340ec95e2fbb0d28f2596",
              "IPY_MODEL_5da413fb4b8a47888f73df2e42fc5799",
              "IPY_MODEL_432b078966764a1a8c2c8429015c6a1e"
            ],
            "layout": "IPY_MODEL_5c774753e8bf45acb13a57b96fe0e4ce"
          }
        },
        "07a18d9c1fc340ec95e2fbb0d28f2596": {
          "model_module": "@jupyter-widgets/controls",
          "model_name": "HTMLModel",
          "model_module_version": "1.5.0",
          "state": {
            "_dom_classes": [],
            "_model_module": "@jupyter-widgets/controls",
            "_model_module_version": "1.5.0",
            "_model_name": "HTMLModel",
            "_view_count": null,
            "_view_module": "@jupyter-widgets/controls",
            "_view_module_version": "1.5.0",
            "_view_name": "HTMLView",
            "description": "",
            "description_tooltip": null,
            "layout": "IPY_MODEL_7ad7d5fc9ca74ee38151eead4d020f3e",
            "placeholder": "​",
            "style": "IPY_MODEL_b7901dd662374a43b16f7a5a70844bf0",
            "value": "Optimization Progress: 100%"
          }
        },
        "5da413fb4b8a47888f73df2e42fc5799": {
          "model_module": "@jupyter-widgets/controls",
          "model_name": "FloatProgressModel",
          "model_module_version": "1.5.0",
          "state": {
            "_dom_classes": [],
            "_model_module": "@jupyter-widgets/controls",
            "_model_module_version": "1.5.0",
            "_model_name": "FloatProgressModel",
            "_view_count": null,
            "_view_module": "@jupyter-widgets/controls",
            "_view_module_version": "1.5.0",
            "_view_name": "ProgressView",
            "bar_style": "",
            "description": "",
            "description_tooltip": null,
            "layout": "IPY_MODEL_5182e32737c943e89a0d62c1a55dd084",
            "max": 120,
            "min": 0,
            "orientation": "horizontal",
            "style": "IPY_MODEL_d59e4f1b5cd24bb1bf5b2c0ba0d257be",
            "value": 120
          }
        },
        "432b078966764a1a8c2c8429015c6a1e": {
          "model_module": "@jupyter-widgets/controls",
          "model_name": "HTMLModel",
          "model_module_version": "1.5.0",
          "state": {
            "_dom_classes": [],
            "_model_module": "@jupyter-widgets/controls",
            "_model_module_version": "1.5.0",
            "_model_name": "HTMLModel",
            "_view_count": null,
            "_view_module": "@jupyter-widgets/controls",
            "_view_module_version": "1.5.0",
            "_view_name": "HTMLView",
            "description": "",
            "description_tooltip": null,
            "layout": "IPY_MODEL_3b27c696508f42248f4b96df9e245896",
            "placeholder": "​",
            "style": "IPY_MODEL_7fe7b7282b0d4819b24a7b068e62f281",
            "value": " 120/120 [00:33&lt;00:00,  6.20pipeline/s]"
          }
        },
        "5c774753e8bf45acb13a57b96fe0e4ce": {
          "model_module": "@jupyter-widgets/base",
          "model_name": "LayoutModel",
          "model_module_version": "1.2.0",
          "state": {
            "_model_module": "@jupyter-widgets/base",
            "_model_module_version": "1.2.0",
            "_model_name": "LayoutModel",
            "_view_count": null,
            "_view_module": "@jupyter-widgets/base",
            "_view_module_version": "1.2.0",
            "_view_name": "LayoutView",
            "align_content": null,
            "align_items": null,
            "align_self": null,
            "border": null,
            "bottom": null,
            "display": null,
            "flex": null,
            "flex_flow": null,
            "grid_area": null,
            "grid_auto_columns": null,
            "grid_auto_flow": null,
            "grid_auto_rows": null,
            "grid_column": null,
            "grid_gap": null,
            "grid_row": null,
            "grid_template_areas": null,
            "grid_template_columns": null,
            "grid_template_rows": null,
            "height": null,
            "justify_content": null,
            "justify_items": null,
            "left": null,
            "margin": null,
            "max_height": null,
            "max_width": null,
            "min_height": null,
            "min_width": null,
            "object_fit": null,
            "object_position": null,
            "order": null,
            "overflow": null,
            "overflow_x": null,
            "overflow_y": null,
            "padding": null,
            "right": null,
            "top": null,
            "visibility": "hidden",
            "width": null
          }
        },
        "7ad7d5fc9ca74ee38151eead4d020f3e": {
          "model_module": "@jupyter-widgets/base",
          "model_name": "LayoutModel",
          "model_module_version": "1.2.0",
          "state": {
            "_model_module": "@jupyter-widgets/base",
            "_model_module_version": "1.2.0",
            "_model_name": "LayoutModel",
            "_view_count": null,
            "_view_module": "@jupyter-widgets/base",
            "_view_module_version": "1.2.0",
            "_view_name": "LayoutView",
            "align_content": null,
            "align_items": null,
            "align_self": null,
            "border": null,
            "bottom": null,
            "display": null,
            "flex": null,
            "flex_flow": null,
            "grid_area": null,
            "grid_auto_columns": null,
            "grid_auto_flow": null,
            "grid_auto_rows": null,
            "grid_column": null,
            "grid_gap": null,
            "grid_row": null,
            "grid_template_areas": null,
            "grid_template_columns": null,
            "grid_template_rows": null,
            "height": null,
            "justify_content": null,
            "justify_items": null,
            "left": null,
            "margin": null,
            "max_height": null,
            "max_width": null,
            "min_height": null,
            "min_width": null,
            "object_fit": null,
            "object_position": null,
            "order": null,
            "overflow": null,
            "overflow_x": null,
            "overflow_y": null,
            "padding": null,
            "right": null,
            "top": null,
            "visibility": null,
            "width": null
          }
        },
        "b7901dd662374a43b16f7a5a70844bf0": {
          "model_module": "@jupyter-widgets/controls",
          "model_name": "DescriptionStyleModel",
          "model_module_version": "1.5.0",
          "state": {
            "_model_module": "@jupyter-widgets/controls",
            "_model_module_version": "1.5.0",
            "_model_name": "DescriptionStyleModel",
            "_view_count": null,
            "_view_module": "@jupyter-widgets/base",
            "_view_module_version": "1.2.0",
            "_view_name": "StyleView",
            "description_width": ""
          }
        },
        "5182e32737c943e89a0d62c1a55dd084": {
          "model_module": "@jupyter-widgets/base",
          "model_name": "LayoutModel",
          "model_module_version": "1.2.0",
          "state": {
            "_model_module": "@jupyter-widgets/base",
            "_model_module_version": "1.2.0",
            "_model_name": "LayoutModel",
            "_view_count": null,
            "_view_module": "@jupyter-widgets/base",
            "_view_module_version": "1.2.0",
            "_view_name": "LayoutView",
            "align_content": null,
            "align_items": null,
            "align_self": null,
            "border": null,
            "bottom": null,
            "display": null,
            "flex": null,
            "flex_flow": null,
            "grid_area": null,
            "grid_auto_columns": null,
            "grid_auto_flow": null,
            "grid_auto_rows": null,
            "grid_column": null,
            "grid_gap": null,
            "grid_row": null,
            "grid_template_areas": null,
            "grid_template_columns": null,
            "grid_template_rows": null,
            "height": null,
            "justify_content": null,
            "justify_items": null,
            "left": null,
            "margin": null,
            "max_height": null,
            "max_width": null,
            "min_height": null,
            "min_width": null,
            "object_fit": null,
            "object_position": null,
            "order": null,
            "overflow": null,
            "overflow_x": null,
            "overflow_y": null,
            "padding": null,
            "right": null,
            "top": null,
            "visibility": null,
            "width": null
          }
        },
        "d59e4f1b5cd24bb1bf5b2c0ba0d257be": {
          "model_module": "@jupyter-widgets/controls",
          "model_name": "ProgressStyleModel",
          "model_module_version": "1.5.0",
          "state": {
            "_model_module": "@jupyter-widgets/controls",
            "_model_module_version": "1.5.0",
            "_model_name": "ProgressStyleModel",
            "_view_count": null,
            "_view_module": "@jupyter-widgets/base",
            "_view_module_version": "1.2.0",
            "_view_name": "StyleView",
            "bar_color": null,
            "description_width": ""
          }
        },
        "3b27c696508f42248f4b96df9e245896": {
          "model_module": "@jupyter-widgets/base",
          "model_name": "LayoutModel",
          "model_module_version": "1.2.0",
          "state": {
            "_model_module": "@jupyter-widgets/base",
            "_model_module_version": "1.2.0",
            "_model_name": "LayoutModel",
            "_view_count": null,
            "_view_module": "@jupyter-widgets/base",
            "_view_module_version": "1.2.0",
            "_view_name": "LayoutView",
            "align_content": null,
            "align_items": null,
            "align_self": null,
            "border": null,
            "bottom": null,
            "display": null,
            "flex": null,
            "flex_flow": null,
            "grid_area": null,
            "grid_auto_columns": null,
            "grid_auto_flow": null,
            "grid_auto_rows": null,
            "grid_column": null,
            "grid_gap": null,
            "grid_row": null,
            "grid_template_areas": null,
            "grid_template_columns": null,
            "grid_template_rows": null,
            "height": null,
            "justify_content": null,
            "justify_items": null,
            "left": null,
            "margin": null,
            "max_height": null,
            "max_width": null,
            "min_height": null,
            "min_width": null,
            "object_fit": null,
            "object_position": null,
            "order": null,
            "overflow": null,
            "overflow_x": null,
            "overflow_y": null,
            "padding": null,
            "right": null,
            "top": null,
            "visibility": null,
            "width": null
          }
        },
        "7fe7b7282b0d4819b24a7b068e62f281": {
          "model_module": "@jupyter-widgets/controls",
          "model_name": "DescriptionStyleModel",
          "model_module_version": "1.5.0",
          "state": {
            "_model_module": "@jupyter-widgets/controls",
            "_model_module_version": "1.5.0",
            "_model_name": "DescriptionStyleModel",
            "_view_count": null,
            "_view_module": "@jupyter-widgets/base",
            "_view_module_version": "1.2.0",
            "_view_name": "StyleView",
            "description_width": ""
          }
        }
      }
    }
  },
  "nbformat": 4,
  "nbformat_minor": 5
}
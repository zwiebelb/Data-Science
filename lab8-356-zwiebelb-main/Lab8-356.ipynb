{
 "cells": [
  {
   "cell_type": "markdown",
   "id": "5ab26926-ad66-43d4-a106-08949387aae5",
   "metadata": {},
   "source": [
    "# Lab 8  356\n",
    "\n",
    "## Agglomerative clustering in Python\n",
    "\n",
    "```linkage()``` performs agglomerative clustering. The most important parameters are ```method``` and ```metric```. The method parameter specifies the measure of similarity, such as single, complete, and centroid. The metric parameter specifies the kind of distance between instances, such as Euclidean distance. The rest of the parameters and matching values can be found in scipy documentation for hierarchical clustering.\n",
    "\n",
    "The dendrogram function plots a dendrogram given a dataframe. The scipy documentation for dendrograms lists the parameters and corresponding values. https://docs.scipy.org/doc/scipy/reference/generated/scipy.cluster.hierarchy.dendrogram.html\n",
    "\n",
    "Sometimes, a more convenient way of structuring the data for clustering is by using a distance matrix. The agglomerative clustering model can take in a distance matrix as input by using the squareform function from the spatial.distance package.\n",
    "\n",
    "Researchers studying chemical properties of wines collected data on a sample of white wines in Northern Portugal. A research goal was to cluster wines based on similar chemical properties.\n",
    "\n",
    "Cluster wines with single linkage.\n",
    "The code provided creates a dataframe with two features (residual_sugar and fixed_acidity), normalizes the dataframe, creates a distance matrix, and displays the cluster membership of each data point."
   ]
  },
  {
   "cell_type": "code",
   "execution_count": null,
   "id": "82e8a9a0-dd5e-48f9-93ad-48ca22f28202",
   "metadata": {},
   "outputs": [],
   "source": [
    "import pandas as pd\n",
    "\n",
    "from scipy.cluster.hierarchy import dendrogram, linkage\n",
    "from scipy.spatial.distance import pdist\n",
    "import matplotlib.pyplot as plt\n",
    "from sklearn.preprocessing import StandardScaler"
   ]
  },
  {
   "cell_type": "code",
   "execution_count": null,
   "id": "a5dbdd5c-b078-4db4-9d32-d5055dea3a14",
   "metadata": {},
   "outputs": [],
   "source": [
    "wine = pd.read_csv('wine1.csv')\n",
    "wine.head()"
   ]
  },
  {
   "cell_type": "code",
   "execution_count": null,
   "id": "16459eff-d8b5-4bcb-8555-723bb71d5823",
   "metadata": {},
   "outputs": [],
   "source": [
    "# Calculate a distance matrix with selected variables\n",
    "X = wine[['residual_sugar', 'fixed_acidity']]\n",
    "\n",
    "scaler = StandardScaler()\n",
    "X_scaled = scaler.fit_transform(X)\n",
    "\n",
    "# pdist() calculates pairs of distances between each instance in the dataset\n",
    "dist = pdist(X)\n",
    "\n",
    "clusterModel = linkage(dist, method='single')\n",
    "\n",
    "# Compute the distance matrix\n",
    "dist = pdist(X_scaled)\n",
    "\n",
    "# Perform hierarchical clustering using the centroid method\n",
    "#clusterModel = linkage(dist, method='centroid')\n",
    "print(clusterModel)"
   ]
  },
  {
   "cell_type": "code",
   "execution_count": null,
   "id": "e7ab5620-7285-4ca1-9e85-67184468dfc1",
   "metadata": {},
   "outputs": [],
   "source": [
    "\n",
    "# Plot the dendrogram\n",
    "plt.figure(figsize=(10, 7))\n",
    "dendrogram(clusterModel)\n",
    "plt.title('Dendrogram')\n",
    "plt.xlabel('Sample index')\n",
    "plt.ylabel('Distance')\n",
    "plt.show()\n"
   ]
  },
  {
   "cell_type": "markdown",
   "id": "7ce7b6cf-a7e6-4558-b53d-3a93c24cdd11",
   "metadata": {},
   "source": [
    "1. What does linkage mean? single? linkage matrix?\n",
    "2. Interpret the linkage matrix and dendrogram together- what is happening in each step in the printout of the clusterModel?\n",
    "3. Change the linkage method to centroid. Plot it above, in addition to the first plot. How did your dendrogram change?\n",
    "4. What does centroid mean?\n",
    "5. What distance would you choose to decide the number of clusters?\n",
    "6. What is one way you could use this visualization to understand more about your samples?\n",
    "7. How might you label your clusters? Try to label your clusters and replot your dendrogram"
   ]
  },
  {
   "cell_type": "markdown",
   "id": "e4558c74-ec43-4ae5-86b3-3101088ef0d2",
   "metadata": {},
   "source": [
    "## DBSCAN\n",
    "The main idea behind the DBSCAN algorithm is that connected core points and corresponding boundary points form a single cluster. An instance that is neither a core point nor a boundary point will be classified as an outlier.\n",
    "\n",
    "The DBSCAN algorithm requires two parameters:\n",
    "\n",
    "epsilon or ε - the radius of the spherical region\n",
    "min_samples - the minimum number of samples, or instances, for a point to be a core point\n",
    "\n",
    "Given ε and min_samples, the following steps outline the DBSCAN algorithm:\n",
    "\n",
    "Step 1: Count the number of points within the ε-neighborhood of each instance and classify as core points instances whose ε-neighborhood has at least min_samples of points.\n",
    "\n",
    "Step 2: Identify the core points that are within the ε-neighborhood of other core points. These connected core points form a single cluster.\n",
    "\n",
    "Step 3: Assign points that are within the ε-neighborhood of a cluster to that cluster.\n",
    "\n",
    "Step 4: Assign points that are not within the ε-neighborhood of a cluster as outliers."
   ]
  },
  {
   "cell_type": "code",
   "execution_count": null,
   "id": "ef25e2ff-72b1-4ef3-a5cc-1acb13dce978",
   "metadata": {},
   "outputs": [],
   "source": [
    "from sklearn.cluster import DBSCAN\n",
    "wineDB = pd.read_csv('wine2.csv')\n",
    "wineDB"
   ]
  },
  {
   "cell_type": "code",
   "execution_count": null,
   "id": "64aaf7e1-d57c-490a-ba08-8916ad40ade1",
   "metadata": {},
   "outputs": [],
   "source": [
    "\n",
    "# Create an input matrix with selected features\n",
    "X_2 = wineDB[['sulphates', 'total_sulfur_dioxide']]\n",
    "\n",
    "scaler = StandardScaler()\n",
    "X_scaled = pd.DataFrame(scaler.fit_transform(X_2))\n",
    "\n",
    "# Cluster using DBSCAN with default options\n",
    "dbModel2 = DBSCAN()\n",
    "\n",
    "dbModel2 = dbModel2.fit(X)\n",
    "\n",
    "print(dbModel2.labels_)"
   ]
  },
  {
   "cell_type": "code",
   "execution_count": null,
   "id": "7f881cc6-8421-4d57-a525-89d3e851a229",
   "metadata": {},
   "outputs": [],
   "source": [
    "wineDB = pd.read_csv('wine2.csv')\n",
    "\n",
    "# Create an input matrix with selected features\n",
    "X_2 = wineDB[['density', 'alcohol']]\n",
    "\n",
    "scaler = StandardScaler()\n",
    "X_scaled = pd.DataFrame(scaler.fit_transform(X_2))\n",
    "\n",
    "# Cluster using DBSCAN with default options\n",
    "dbModel = DBSCAN()\n",
    "\n",
    "dbModel = dbModel.fit(X)\n",
    "print(dbModel.labels_)"
   ]
  },
  {
   "cell_type": "markdown",
   "id": "7aceb181-cc96-4aba-8e7c-2ebbeaae5d43",
   "metadata": {},
   "source": [
    "8. What do the -1's all mean (assuming for the last two input matrices you got all -1's)?\n",
    "9. How can you fix this? (hint try an eps of .69 and min_samples=3) What does this mean?\n",
    "10. Plot one of your results below."
   ]
  },
  {
   "cell_type": "code",
   "execution_count": null,
   "id": "ed8829bc-1b7b-4c9f-8a22-d0f3ce6fb1c3",
   "metadata": {},
   "outputs": [],
   "source": [
    "#!pip install tpot"
   ]
  },
  {
   "cell_type": "code",
   "execution_count": null,
   "id": "71c54230-5bfe-4135-9320-3018942afe9c",
   "metadata": {},
   "outputs": [],
   "source": [
    "from tpot import TPOTClassifier\n",
    "from sklearn.datasets import load_iris\n",
    "from sklearn.model_selection import train_test_split\n",
    "\n",
    "# Load the Iris dataset\n",
    "iris = load_iris()\n",
    "X_train, X_test, y_train, y_test = train_test_split(iris.data, iris.target, test_size=0.2, random_state=42)\n",
    "\n",
    "# Define TPOT search parameters\n",
    "tpot = TPOTClassifier(generations=5, population_size=20, verbosity=2, random_state=42)\n",
    "\n",
    "# Fit TPOT to find the best pipeline\n",
    "tpot.fit(X_train, y_train)\n",
    "\n",
    "# Evaluate the best pipeline on the test set\n",
    "accuracy = tpot.score(X_test, y_test)\n",
    "print(\"Test set accuracy:\", accuracy)\n",
    "\n",
    "\n",
    "# Export the final pipeline code\n",
    "tpot.export('tpot_iris_pipeline.py')\n"
   ]
  },
  {
   "cell_type": "markdown",
   "id": "28dfb465-1af5-4e8f-8cde-dd7136852790",
   "metadata": {},
   "source": [
    "11. Go to http://epistasislab.github.io/tpot/ , read about this tool\n",
    "12. What is TPOT good for? What is it not good for?\n",
    "13. Which algorithms does TPOT check?\n",
    "14. In the code above, what do the parameters mean? # Do NOT be so simplistic with your metrics, this is a code sample above.\n",
    "15. In a new notebook, do:\n",
    "    -- DBSCAN on aspect of your data and visualize\n",
    "    - TPOT on an aspect of your final project, and implement its suggestion plus report on your results\n",
    "    - Dendrogram that is readable and legible (you can take representative samples from your data)\n",
    "    - Spelling counts from now on! (too many misspelled words in your notebooks)"
   ]
  },
  {
   "cell_type": "code",
   "execution_count": null,
   "id": "ad5df5f5-1f0d-46ee-a9d6-582f757120b4",
   "metadata": {},
   "outputs": [],
   "source": []
  }
 ],
 "metadata": {
  "kernelspec": {
   "display_name": "Python 3 (ipykernel)",
   "language": "python",
   "name": "python3"
  },
  "language_info": {
   "codemirror_mode": {
    "name": "ipython",
    "version": 3
   },
   "file_extension": ".py",
   "mimetype": "text/x-python",
   "name": "python",
   "nbconvert_exporter": "python",
   "pygments_lexer": "ipython3",
   "version": "3.10.11"
  }
 },
 "nbformat": 4,
 "nbformat_minor": 5
}

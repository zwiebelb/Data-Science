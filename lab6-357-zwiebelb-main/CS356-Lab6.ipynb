{
 "cells": [
  {
   "cell_type": "markdown",
   "id": "64a3fce6-7a15-4dca-9d76-e410c7cc14ee",
   "metadata": {},
   "source": [
    "## Lab 6 - metrics of your models\n",
    "For this lab, you will be getting less code, you'll have to fill in the blanks.\n",
    "\n",
    "The hmeq_small dataset contains information on 5960 home equity loans, including 7 features on the characteristics of the loan. \n",
    "hmeq csv is included in this repo.\n",
    "(hmeq is from kaggle: https://www.kaggle.com/datasets/ajay1735/hmeq-data )\n",
    "\n",
    "Load the data set hmeq_small.csv as a data frame.\n",
    "Create a new data frame with all the rows with missing data deleted.\n",
    "Create a second data frame with all missing data filled in with the mean value of the column.\n",
    "Find the means of the columns for both new data frames.\n",
    "Ex: Using only the first hundred rows, found in hmeq_sample.csv, the output is:\n",
    "Means for hmeqDelete are  LOAN        3208.333333\n",
    "MORTDUE    67495.958333\n",
    "VALUE      82529.125000\n",
    "YOJ            8.500000\n",
    "CLAGE        144.749455\n",
    "CLNO          16.583333\n",
    "DEBTINC       33.052122\n",
    "dtype: float64\n",
    "Means for hmeqReplace are  LOAN        3045.918367\n",
    "MORTDUE    49386.494253\n",
    "VALUE      64033.483871\n",
    "YOJ            8.179775\n",
    "CLAGE        140.209320\n",
    "CLNO          15.586957\n",
    "DEBTINC       30.947152\n",
    "dtype: float64\n",
    "\n",
    "\n",
    "# Starter code \n",
    "Take each of these and cut and paste into new cells below:\n",
    "# import pandas as pd\n",
    "\n",
    "# Read in hmeq_small.csv\n",
    "hmeq = # Your code here\n",
    "\n",
    "# Describe your features here\n",
    "\n",
    "# Create a new data frame with the rows with missing values dropped\n",
    "hmeqDelete = # Your code here\n",
    "\n",
    "# Create a new data frame with the missing values filled in by the mean of the column\n",
    "hmeqReplace = # Your code here\n",
    "\n",
    "# Print the means of the columns for each new data frame\n",
    "print(\"Means for hmeqDelete are \", # Your code here)\n",
    "\n",
    "print(\"Means for hmeqReplace are \", # Your code here)\n"
   ]
  },
  {
   "cell_type": "markdown",
   "id": "0c1cb08f-607c-43a3-a9fe-31fdd9948162",
   "metadata": {},
   "source": [
    "## Lab part 2:\n",
    "Hmeq lab #2:\n",
    "The hmeq_small dataset contains information on 5960 home equity loans, including 7 features on the characteristics of the loan.\n",
    "Copy the cleaned hmeq_small.csv data set as a data frame with a new name.\n",
    "Standardize the data set as a new data frame.\n",
    "Normalize the data set as a new data frame.\n",
    "Print the means and standard deviations of both the standardized and normalized data.\n"
   ]
  },
  {
   "cell_type": "markdown",
   "id": "e3725fb7-bfb5-4ca0-8933-a72e70d41318",
   "metadata": {},
   "source": [
    "Lab part 3:\n",
    "Your goal is to train a model (can be logistic regression, but can be something else appropriate that we have not covered) to predict if a person will default on their loan or not, based on the information given. You may use the column(s) of your choice to build your model. Report your accuracy score of your model, using appropriate metrics.\n",
    "1. Data Preprocessing: Decide what columns you will use, clean and preprocess the dataset, handling missing values, encoding categorical variables, and scaling numeric features if necessary.\n",
    "2. Feature Selection: Select relevant features from the dataset that could be predictive of loan default. These could include variables such as income, debt-to-income ratio, credit score, employment status, and other financial and personal characteristics of borrowers.\n",
    "3. Model Training: Split the dataset into training and testing sets. Then, train a logistic regression model using the training data. In logistic regression, you're essentially fitting a linear regression model to the log-odds of the probability of loan default.\n",
    "4. Model Evaluation: Evaluate the performance of the trained logistic regression model using the testing data. Common evaluation metrics for binary classification tasks include accuracy, precision, recall, F1-score, and ROC curve analysis. Explain results.\n",
    "5. Model Interpretation: Interpret the coefficients of the logistic regression model to understand the impact of different features on the probability of loan default. Identify which features are most predictive of default.\n",
    "6. Model Deployment: If the model performs well and meets your requirements, you can deploy it to make predictions on new data or integrate it into a larger application or system (we will not do this, but write up a brief hypothetical scenario for how you might deploy your model at the bank you hypothetically work at)"
   ]
  },
  {
   "cell_type": "markdown",
   "id": "81d006ab-f485-42bf-bc83-3ba22c0cbb79",
   "metadata": {},
   "source": [
    "# Final Project: \n",
    "as mentioned in class, your verbal class report will count here as your effort. That said, keep working on your project and if you have any questions please reach out to me."
   ]
  },
  {
   "cell_type": "code",
   "execution_count": null,
   "id": "f5b31aa3-a219-4bf7-b7aa-a7cb27456355",
   "metadata": {},
   "outputs": [],
   "source": []
  }
 ],
 "metadata": {
  "kernelspec": {
   "display_name": "Python 3 (ipykernel)",
   "language": "python",
   "name": "python3"
  },
  "language_info": {
   "codemirror_mode": {
    "name": "ipython",
    "version": 3
   },
   "file_extension": ".py",
   "mimetype": "text/x-python",
   "name": "python",
   "nbconvert_exporter": "python",
   "pygments_lexer": "ipython3",
   "version": "3.10.11"
  }
 },
 "nbformat": 4,
 "nbformat_minor": 5
}
